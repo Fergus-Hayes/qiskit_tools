{
 "cells": [
  {
   "cell_type": "markdown",
   "id": "6c6388f7",
   "metadata": {},
   "source": [
    "# Inverting and wrapping gates\n",
    "\n",
    "In this section, I will show how to wrap collections of gates into a single operation for brevity. After this, we can represent the inverse of this operation and implement it easily."
   ]
  },
  {
   "cell_type": "code",
   "execution_count": 1,
   "id": "e592ab98",
   "metadata": {},
   "outputs": [],
   "source": [
    "from qiskit import QuantumCircuit, QuantumRegister, ClassicalRegister, execute, Aer, IBMQ\n",
    "import qiskit_tools as qt\n",
    "import numpy as np\n",
    "import matplotlib.pyplot as plt\n",
    "import matplotlib"
   ]
  },
  {
   "cell_type": "markdown",
   "id": "f8e09761",
   "metadata": {},
   "source": [
    "Let's consider our quantum Fourier transform from the last notebook:"
   ]
  },
  {
   "cell_type": "code",
   "execution_count": 3,
   "id": "991e0a6a",
   "metadata": {},
   "outputs": [],
   "source": [
    "n = 5\n",
    "\n",
    "xreg = QuantumRegister(n, 'x')\n",
    "circ = QuantumCircuit(xreg)\n",
    "\n",
    "circ = qt.QFT(circ, xreg)"
   ]
  },
  {
   "cell_type": "code",
   "execution_count": 4,
   "id": "c084d949",
   "metadata": {
    "scrolled": false
   },
   "outputs": [
    {
     "data": {
      "image/png": "[encoded data removed]",
      "text/plain": [
       "<PIL.Image.Image image mode=RGB size=1230x151 at 0x7F4A1FDCC0D0>"
      ]
     },
     "execution_count": 4,
     "metadata": {},
     "output_type": "execute_result"
    }
   ],
   "source": [
    "circ.draw(output=\"latex\")"
   ]
  },
  {
   "cell_type": "markdown",
   "id": "e8b313cc",
   "metadata": {},
   "source": [
    "Again, we can save the matrix corresponding to this operation through:"
   ]
  },
  {
   "cell_type": "code",
   "execution_count": 5,
   "id": "8ac47362",
   "metadata": {},
   "outputs": [],
   "source": [
    "backend = Aer.get_backend('unitary_simulator')\n",
    "job = execute(circ, backend)\n",
    "result = job.result()\n",
    "unit_mat = np.array(result.get_unitary(circ, decimals=5))"
   ]
  },
  {
   "cell_type": "markdown",
   "id": "0a4a3962",
   "metadata": {},
   "source": [
    "Now let's do the same again, but set `wrap=True`:"
   ]
  },
  {
   "cell_type": "code",
   "execution_count": 6,
   "id": "525a135d",
   "metadata": {},
   "outputs": [],
   "source": [
    "xreg = QuantumRegister(n, 'x')\n",
    "circ = QuantumCircuit(xreg)\n",
    "\n",
    "QFT_gate = qt.QFT(circ, xreg, wrap=True)\n",
    "circ.append(QFT_gate, xreg);"
   ]
  },
  {
   "cell_type": "code",
   "execution_count": 7,
   "id": "4aa375ec",
   "metadata": {},
   "outputs": [
    {
     "data": {
      "image/png": "[encoded data removed]",
      "text/plain": [
       "<PIL.Image.Image image mode=RGB size=171x184 at 0x7F4A095E2E60>"
      ]
     },
     "execution_count": 7,
     "metadata": {},
     "output_type": "execute_result"
    }
   ],
   "source": [
    "circ.draw(output=\"latex\")"
   ]
  },
  {
   "cell_type": "markdown",
   "id": "f61bffc1",
   "metadata": {},
   "source": [
    "This operation is now represented in a single gate over the whole register and represented through the `QFT_gate` variable and `append`-ed to the circuit, rather than being applied straight to the circuit.\n",
    "\n",
    "We can see that this is the same operation as before by comparing the output matrices:"
   ]
  },
  {
   "cell_type": "code",
   "execution_count": 8,
   "id": "4d150221",
   "metadata": {},
   "outputs": [],
   "source": [
    "backend = Aer.get_backend('unitary_simulator')\n",
    "job = execute(circ, backend)\n",
    "result = job.result()\n",
    "unit_mat_wrap = np.array(result.get_unitary(circ, decimals=5))"
   ]
  },
  {
   "cell_type": "code",
   "execution_count": 9,
   "id": "042ab862",
   "metadata": {},
   "outputs": [
    {
     "name": "stdout",
     "output_type": "stream",
     "text": [
      "0.0\n"
     ]
    }
   ],
   "source": [
    "print(np.sum(np.abs(unit_mat-unit_mat_wrap)**2))"
   ]
  },
  {
   "cell_type": "markdown",
   "id": "717ca1ab",
   "metadata": {},
   "source": [
    "We see both are equal. \n",
    "\n",
    "Now let's see how to perform the inverse operation. To simply implement the inverse operation, the operation is wrapped and then inverted with `inverse=True`. Note that with `wrap=False` and `inverse=True` will still result in an inverted and wrapped operation."
   ]
  },
  {
   "cell_type": "code",
   "execution_count": 10,
   "id": "524bdb92",
   "metadata": {},
   "outputs": [],
   "source": [
    "xreg = QuantumRegister(n, 'x')\n",
    "circ = QuantumCircuit(xreg)\n",
    "\n",
    "QFT_gate = qt.QFT(circ, xreg, wrap=True)\n",
    "circ.append(QFT_gate, xreg);\n",
    "\n",
    "iQFT_gate = qt.QFT(circ, xreg, wrap=True, inverse=True)\n",
    "circ.append(iQFT_gate, xreg);"
   ]
  },
  {
   "cell_type": "code",
   "execution_count": 11,
   "id": "427e55ea",
   "metadata": {
    "scrolled": true
   },
   "outputs": [
    {
     "data": {
      "image/png": "[encoded data removed]",
      "text/plain": [
       "<PIL.Image.Image image mode=RGB size=266x184 at 0x7F4A095E2F50>"
      ]
     },
     "execution_count": 11,
     "metadata": {},
     "output_type": "execute_result"
    }
   ],
   "source": [
    "circ.draw(output=\"latex\")"
   ]
  },
  {
   "cell_type": "code",
   "execution_count": 12,
   "id": "b9e1304f",
   "metadata": {},
   "outputs": [],
   "source": [
    "backend = Aer.get_backend('unitary_simulator')\n",
    "job = execute(circ, backend)\n",
    "result = job.result()\n",
    "unit_mat = np.array(result.get_unitary(circ, decimals=5))"
   ]
  },
  {
   "cell_type": "markdown",
   "id": "00bbd7d6",
   "metadata": {},
   "source": [
    "By applying the inverse quantum Fourier transform after the quantum Fourier transform is first applied, the identity is returned:"
   ]
  },
  {
   "cell_type": "code",
   "execution_count": 13,
   "id": "db29cf8b",
   "metadata": {},
   "outputs": [
    {
     "name": "stdout",
     "output_type": "stream",
     "text": [
      "0.0\n"
     ]
    }
   ],
   "source": [
    "print(np.sum(np.abs(unit_mat - np.eye(2**n))**2))"
   ]
  }
 ],
 "metadata": {
  "kernelspec": {
   "display_name": "Python 3 (ipykernel)",
   "language": "python",
   "name": "python3"
  },
  "language_info": {
   "codemirror_mode": {
    "name": "ipython",
    "version": 3
   },
   "file_extension": ".py",
   "mimetype": "text/x-python",
   "name": "python",
   "nbconvert_exporter": "python",
   "pygments_lexer": "ipython3",
   "version": "3.10.6"
  }
 },
 "nbformat": 4,
 "nbformat_minor": 5
}
