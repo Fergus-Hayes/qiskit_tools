{
 "cells": [
  {
   "cell_type": "code",
   "execution_count": 1,
   "id": "b824e8db",
   "metadata": {},
   "outputs": [],
   "source": [
    "from qiskit import QuantumCircuit, QuantumRegister, ClassicalRegister, execute, Aer, IBMQ\n",
    "from qiskit.circuit.library import ExactReciprocal\n",
    "from qiskit.extensions import HamiltonianGate\n",
    "from qiskit.quantum_info import random_hermitian\n",
    "import qiskit_tools as qt\n",
    "import numpy as np\n",
    "import matplotlib.pyplot as plt\n",
    "import matplotlib"
   ]
  },
  {
   "cell_type": "code",
   "execution_count": 2,
   "id": "193a06d8",
   "metadata": {},
   "outputs": [],
   "source": [
    "matplotlib.rcParams['mathtext.fontset'] = 'stix'\n",
    "matplotlib.rcParams['font.family'] = 'STIXGeneral'\n",
    "width=0.75\n",
    "color='black'\n",
    "fontsize=28\n",
    "ticksize=22\n",
    "figsize=(10,8)"
   ]
  },
  {
   "cell_type": "code",
   "execution_count": 3,
   "id": "c6c4af64",
   "metadata": {},
   "outputs": [],
   "source": [
    "def HHL(circ, qreg, qanc, qtarg, A, t=2.*np.pi, scaling=None, wrap=False, inverse=False, neg_vals=True, label='HHL'):\n",
    "        \n",
    "    n = len(qreg)\n",
    "    nanc = len(qanc)\n",
    "\n",
    "    if inverse:\n",
    "        wrap = True\n",
    "\n",
    "    if wrap:\n",
    "        qreg = QuantumRegister(n, 'q_reg')\n",
    "        qanc = QuantumRegister(nanc, 'q_anc')\n",
    "        qtarg = QuantumRegister(1, 'q_targ')\n",
    "        circ = QuantumCircuit(qreg, qanc, qtarg)\n",
    "\n",
    "    A_gate = HamiltonianGate(A, t)\n",
    "        \n",
    "    qe_gate = qt.PhaseEst(circ, qreg, qanc, A_gate, wrap=True, do_swaps=False, reverse_bits=True)\n",
    "    circ.append(qe_gate, [*qreg, *qanc]);\n",
    "        \n",
    "    rec_gate = ExactReciprocal(nanc, scaling=scaling, neg_vals=neg_vals).to_gate()\n",
    "    circ.append(rec_gate, [*qanc[::-1], qtarg]);\n",
    "\n",
    "    qe_gate_inv = qt.PhaseEst(circ, qreg, qanc, A_gate, wrap=True, inverse=True, do_swaps=False, reverse_bits=True)\n",
    "    circ.append(qe_gate_inv, [*qreg, *qanc]);\n",
    "    \n",
    "    if wrap:\n",
    "        circ = circ.to_gate()\n",
    "        circ.label = label\n",
    "\n",
    "    if inverse:\n",
    "        circ = circ.inverse()\n",
    "        circ.label = label+'\\dag'\n",
    "\n",
    "    return circ"
   ]
  },
  {
   "cell_type": "code",
   "execution_count": 4,
   "id": "6eebdf34",
   "metadata": {},
   "outputs": [
    {
     "name": "stdout",
     "output_type": "stream",
     "text": [
      "[[1.97671356 1.26830923 0.91486207 0.53077005]\n",
      " [1.26830923 1.97671356 1.26830923 0.91486207]\n",
      " [0.91486207 1.26830923 1.97671356 1.26830923]\n",
      " [0.53077005 0.91486207 1.26830923 1.97671356]]\n"
     ]
    }
   ],
   "source": [
    "A = random_hermitian(2).to_matrix()\n",
    "print(A)"
   ]
  },
  {
   "cell_type": "code",
   "execution_count": 5,
   "id": "a0b00a5e",
   "metadata": {},
   "outputs": [],
   "source": [
    "def get_delta(n_l, lambda_min, lambda_max):\n",
    "    formatstr = \"#0\" + str(n_l + 2) + \"b\"\n",
    "    lambda_min_tilde = np.abs(lambda_min * (2**n_l - 1) / lambda_max)\n",
    "    # floating point precision can cause problems\n",
    "    if np.abs(lambda_min_tilde - 1) < 1e-7:\n",
    "        lambda_min_tilde = 1\n",
    "    binstr = format(int(lambda_min_tilde), formatstr)[2::]\n",
    "    lamb_min_rep = 0\n",
    "    for i, char in enumerate(binstr):\n",
    "        lamb_min_rep += int(char) / (2 ** (i + 1))\n",
    "    return lamb_min_rep"
   ]
  },
  {
   "cell_type": "code",
   "execution_count": 6,
   "id": "ffd499a7",
   "metadata": {},
   "outputs": [
    {
     "name": "stdout",
     "output_type": "stream",
     "text": [
      "0.34667784768632276 0.0625 5 8.9876035990045 0.5663746390482408 5.0903507442948435\n"
     ]
    }
   ],
   "source": [
    "phase = True\n",
    "\n",
    "lambda_min = np.min(np.abs(np.linalg.eigvals(A)))\n",
    "lambda_max = np.max(np.abs(np.linalg.eigvals(A)))\n",
    "kappa = np.abs(lambda_max/lambda_min)\n",
    "\n",
    "nanc = np.max([int(np.log2(A.shape[0])) + 1, int(np.ceil(np.log2(kappa + 1)))]) + phase\n",
    "\n",
    "scaling = get_delta(nanc - phase, lambda_min, lambda_max)\n",
    "t0 = scaling / (lambda_min * (2**phase))\n",
    "t = 2 * np.pi * t0\n",
    "\n",
    "print(t, scaling, nanc, kappa, lambda_min, lambda_max)"
   ]
  },
  {
   "cell_type": "code",
   "execution_count": 7,
   "id": "8727e0b8",
   "metadata": {},
   "outputs": [],
   "source": [
    "n = int(np.log2(A.shape[0]))"
   ]
  },
  {
   "cell_type": "code",
   "execution_count": 8,
   "id": "bef2b580",
   "metadata": {},
   "outputs": [],
   "source": [
    "qreg = QuantumRegister(n, 'q_reg')\n",
    "circ = QuantumCircuit(qreg)"
   ]
  },
  {
   "cell_type": "code",
   "execution_count": 9,
   "id": "b24fd794",
   "metadata": {},
   "outputs": [],
   "source": [
    "#circ.h(qreg[0]);\n",
    "circ.x(qreg[0]);"
   ]
  },
  {
   "cell_type": "code",
   "execution_count": 10,
   "id": "5be502d1",
   "metadata": {},
   "outputs": [],
   "source": [
    "backend = Aer.get_backend('statevector_simulator')\n",
    "job = execute(circ, backend)\n",
    "result = job.result()\n",
    "in_vector = np.asarray(result.get_statevector())"
   ]
  },
  {
   "cell_type": "code",
   "execution_count": 11,
   "id": "87aec972",
   "metadata": {},
   "outputs": [
    {
     "name": "stdout",
     "output_type": "stream",
     "text": [
      "[0.+0.j 1.+0.j 0.+0.j 0.+0.j]\n"
     ]
    }
   ],
   "source": [
    "print(in_vector)"
   ]
  },
  {
   "cell_type": "code",
   "execution_count": 12,
   "id": "9056961a",
   "metadata": {},
   "outputs": [],
   "source": [
    "qanc = QuantumRegister(nanc, 'q_anc')\n",
    "qtarg = QuantumRegister(1, 'q_targ')\n",
    "\n",
    "circ.add_register(qanc, qtarg)"
   ]
  },
  {
   "cell_type": "code",
   "execution_count": 13,
   "id": "b12019b0",
   "metadata": {},
   "outputs": [],
   "source": [
    "circ = HHL(circ, qreg, qanc, qtarg, A, t=t, scaling=scaling)"
   ]
  },
  {
   "cell_type": "code",
   "execution_count": 14,
   "id": "be05d39c",
   "metadata": {},
   "outputs": [
    {
     "data": {
      "image/png": "[encoded data removed]",
      "text/plain": [
       "<PIL.Image.Image image mode=RGB size=425x241>"
      ]
     },
     "execution_count": 14,
     "metadata": {},
     "output_type": "execute_result"
    }
   ],
   "source": [
    "circ.draw('latex')"
   ]
  },
  {
   "cell_type": "code",
   "execution_count": 15,
   "id": "97622a3a",
   "metadata": {
    "scrolled": false
   },
   "outputs": [],
   "source": [
    "backend = Aer.get_backend('statevector_simulator')\n",
    "job = execute(circ, backend)\n",
    "result = job.result()\n",
    "state_vector = np.asarray(result.get_statevector())"
   ]
  },
  {
   "cell_type": "code",
   "execution_count": 16,
   "id": "3166d3cd",
   "metadata": {},
   "outputs": [],
   "source": [
    "state_v = np.asarray(state_vector).reshape((2**1,2**nanc,2**n))"
   ]
  },
  {
   "cell_type": "code",
   "execution_count": 17,
   "id": "ad49b2d8",
   "metadata": {},
   "outputs": [
    {
     "name": "stdout",
     "output_type": "stream",
     "text": [
      "(2, 32, 4)\n"
     ]
    }
   ],
   "source": [
    "# 1, nanc, n\n",
    "print(state_v.shape)"
   ]
  },
  {
   "cell_type": "code",
   "execution_count": 18,
   "id": "4bc6e3b6",
   "metadata": {},
   "outputs": [
    {
     "name": "stdout",
     "output_type": "stream",
     "text": [
      "0.797482187918711\n"
     ]
    }
   ],
   "source": [
    "norm_ = np.sqrt(np.sum(np.abs(state_v[1])**2))\n",
    "print(norm_)"
   ]
  },
  {
   "cell_type": "code",
   "execution_count": 19,
   "id": "cf676e6a",
   "metadata": {},
   "outputs": [],
   "source": [
    "state_v = state_v[1,0]"
   ]
  },
  {
   "cell_type": "code",
   "execution_count": 20,
   "id": "6ba09ea4",
   "metadata": {},
   "outputs": [
    {
     "name": "stdout",
     "output_type": "stream",
     "text": [
      "[-0.31564634-1.29156699e-15j  0.67876498+7.56904195e-16j\n",
      " -0.22869925-4.32713933e-16j -0.08536698+5.76667097e-16j]\n"
     ]
    }
   ],
   "source": [
    "print(state_v)"
   ]
  },
  {
   "cell_type": "code",
   "execution_count": 21,
   "id": "6280a7eb",
   "metadata": {
    "scrolled": false
   },
   "outputs": [
    {
     "data": {
      "image/png": "[encoded data removed]",
      "text/plain": [
       "<Figure size 1000x1600 with 2 Axes>"
      ]
     },
     "metadata": {},
     "output_type": "display_data"
    }
   ],
   "source": [
    "fig = plt.figure(figsize=np.array(figsize)*[1,2])\n",
    "ax = fig.add_subplot(211)\n",
    "\n",
    "plt.scatter(np.arange(2**n), state_v.real, marker='.', color='black')\n",
    "plt.scatter(np.arange(2**n), state_v.imag, marker='.', color='grey')\n",
    "ax.set_ylabel('Amplitude', fontsize=fontsize);\n",
    "ax.tick_params(axis='both', labelsize=ticksize);\n",
    "\n",
    "ax = fig.add_subplot(212)\n",
    "\n",
    "plt.bar(np.arange(2**n), np.abs(state_v)**2, color='black')\n",
    "ax.set_ylabel('Probability', fontsize=fontsize);\n",
    "ax.tick_params(axis='both', labelsize=ticksize);"
   ]
  },
  {
   "cell_type": "code",
   "execution_count": 22,
   "id": "4cf6b198",
   "metadata": {},
   "outputs": [],
   "source": [
    "state_v = state_v.real/np.sqrt(np.sum(np.abs(state_v)**2))"
   ]
  },
  {
   "cell_type": "code",
   "execution_count": 23,
   "id": "9323f8f5",
   "metadata": {},
   "outputs": [],
   "source": [
    "targ = np.matmul(np.linalg.inv(A),in_vector).real"
   ]
  },
  {
   "cell_type": "code",
   "execution_count": 24,
   "id": "89d37ba7",
   "metadata": {},
   "outputs": [],
   "source": [
    "norm = norm_/lambda_min"
   ]
  },
  {
   "cell_type": "code",
   "execution_count": 25,
   "id": "98b4443b",
   "metadata": {},
   "outputs": [],
   "source": [
    "out = state_v*norm"
   ]
  },
  {
   "cell_type": "code",
   "execution_count": 26,
   "id": "0215ac2a",
   "metadata": {
    "scrolled": true
   },
   "outputs": [
    {
     "name": "stdout",
     "output_type": "stream",
     "text": [
      "[-0.56447048  1.2138357  -0.40898297 -0.15266181] [-0.52034776  1.17581228 -0.43188531 -0.12736136]\n"
     ]
    }
   ],
   "source": [
    "print(out, targ)"
   ]
  },
  {
   "cell_type": "code",
   "execution_count": 27,
   "id": "4dc483f0",
   "metadata": {},
   "outputs": [
    {
     "data": {
      "text/plain": [
       "array([1.08479467, 1.03233801, 0.94697125, 1.19865095])"
      ]
     },
     "execution_count": 27,
     "metadata": {},
     "output_type": "execute_result"
    }
   ],
   "source": [
    "out/targ"
   ]
  }
 ],
 "metadata": {
  "kernelspec": {
   "display_name": "Python 3 (ipykernel)",
   "language": "python",
   "name": "python3"
  },
  "language_info": {
   "codemirror_mode": {
    "name": "ipython",
    "version": 3
   },
   "file_extension": ".py",
   "mimetype": "text/x-python",
   "name": "python",
   "nbconvert_exporter": "python",
   "pygments_lexer": "ipython3",
   "version": "3.10.12"
  }
 },
 "nbformat": 4,
 "nbformat_minor": 5
}
