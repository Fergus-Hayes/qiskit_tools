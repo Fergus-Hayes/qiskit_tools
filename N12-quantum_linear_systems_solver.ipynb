{
 "cells": [
  {
   "cell_type": "code",
   "execution_count": 1,
   "id": "b824e8db",
   "metadata": {},
   "outputs": [],
   "source": [
    "from qiskit import QuantumCircuit, QuantumRegister, ClassicalRegister, execute, Aer, IBMQ\n",
    "from qiskit.circuit.library import PhaseGate, ExactReciprocal, PhaseEstimation, QFT\n",
    "from qiskit.extensions import UnitaryGate, HamiltonianGate\n",
    "from linear_solvers import NumPyMatrix\n",
    "import qiskit_tools as qt\n",
    "import numpy as np\n",
    "import matplotlib.pyplot as plt\n",
    "import matplotlib"
   ]
  },
  {
   "cell_type": "code",
   "execution_count": 2,
   "id": "193a06d8",
   "metadata": {},
   "outputs": [],
   "source": [
    "matplotlib.rcParams['mathtext.fontset'] = 'stix'\n",
    "matplotlib.rcParams['font.family'] = 'STIXGeneral'\n",
    "width=0.75\n",
    "color='black'\n",
    "fontsize=28\n",
    "ticksize=22\n",
    "figsize=(10,8)"
   ]
  },
  {
   "cell_type": "code",
   "execution_count": 3,
   "id": "c6c4af64",
   "metadata": {},
   "outputs": [],
   "source": [
    "def HHL_itt(circ, qreg, qanc, qtarg, A, t=2.*np.pi, scaling=1./2, wrap=False, inverse=False, neg_vals=True, label='HHL'):\n",
    "        \n",
    "    n = len(qreg)\n",
    "    nanc = len(qanc)\n",
    "\n",
    "    if inverse:\n",
    "        wrap = True\n",
    "\n",
    "    if wrap:\n",
    "        qreg = QuantumRegister(n, 'q_reg')\n",
    "        qanc = QuantumRegister(nanc, 'q_anc')\n",
    "        qtarg = QuantumRegister(1, 'q_targ')\n",
    "        circ = QuantumCircuit(qreg, qanc, qtarg)\n",
    "\n",
    "    A_gate = HamiltonianGate(A, t)\n",
    "        \n",
    "    qe_gate = qt.PhaseEst(circ, qreg, qanc, A_gate, wrap=True, do_swaps=False, reverse_bits=True)\n",
    "    circ.append(qe_gate, [*qreg, *qanc]);\n",
    "        \n",
    "    rec_gate = ExactReciprocal(nanc, scaling=scaling, neg_vals=neg_vals)\n",
    "    circ.append(rec_gate, [*qanc[::-1], qtarg]);\n",
    "\n",
    "    qe_gate_inv = qt.PhaseEst(circ, qreg, qanc, A_gate, wrap=True, inverse=True, do_swaps=False, reverse_bits=True)\n",
    "    circ.append(qe_gate_inv, [*qreg, *qanc]);\n",
    "    \n",
    "    if wrap:\n",
    "        circ = circ.to_gate()\n",
    "        circ.label = label\n",
    "\n",
    "    if inverse:\n",
    "        circ = circ.inverse()\n",
    "        circ.label = label+'\\dag'\n",
    "\n",
    "    return circ"
   ]
  },
  {
   "cell_type": "code",
   "execution_count": 4,
   "id": "6eebdf34",
   "metadata": {},
   "outputs": [],
   "source": [
    "#theta = 1./3\n",
    "#phi = 1./8\n",
    "#A = np.array([[-phi,0],[0,-theta]])\n",
    "A = np.array([ [1, -1/3], [-1/3, 1] ])"
   ]
  },
  {
   "cell_type": "code",
   "execution_count": 5,
   "id": "b0fd0601",
   "metadata": {},
   "outputs": [],
   "source": [
    "t = 2.*np.pi\n",
    "neg_vals = True"
   ]
  },
  {
   "cell_type": "code",
   "execution_count": 6,
   "id": "3488227f",
   "metadata": {},
   "outputs": [],
   "source": [
    "A_circ = NumPyMatrix(A, evolution_time=t)\n",
    "    \n",
    "if (hasattr(A_circ, \"condition_bounds\") and A_circ.condition_bounds() is not None):\n",
    "    kappa = A_circ.condition_bounds()[1]\n",
    "else:\n",
    "    kappa = 1"
   ]
  },
  {
   "cell_type": "code",
   "execution_count": 7,
   "id": "a4c38bfc",
   "metadata": {},
   "outputs": [],
   "source": [
    "nl = max(int(np.log2(A.shape[0])) + 1, int(np.ceil(np.log2(kappa + 1)))) + 1"
   ]
  },
  {
   "cell_type": "code",
   "execution_count": 8,
   "id": "a0b00a5e",
   "metadata": {},
   "outputs": [],
   "source": [
    "def get_delta(n_l, lambda_min, lambda_max):\n",
    "    formatstr = \"#0\" + str(n_l + 2) + \"b\"\n",
    "    lambda_min_tilde = np.abs(lambda_min * (2**n_l - 1) / lambda_max)\n",
    "    # floating point precision can cause problems\n",
    "    if np.abs(lambda_min_tilde - 1) < 1e-7:\n",
    "        lambda_min_tilde = 1\n",
    "    binstr = format(int(lambda_min_tilde), formatstr)[2::]\n",
    "    lamb_min_rep = 0\n",
    "    for i, char in enumerate(binstr):\n",
    "        lamb_min_rep += int(char) / (2 ** (i + 1))\n",
    "    return lamb_min_rep"
   ]
  },
  {
   "cell_type": "code",
   "execution_count": 9,
   "id": "ffd499a7",
   "metadata": {},
   "outputs": [],
   "source": [
    "if hasattr(A_circ, \"eigs_bounds\") and A_circ.eigs_bounds() is not None:\n",
    "    lambda_min, lambda_max = A_circ.eigs_bounds()\n",
    "    scaling = get_delta(nl - neg_vals, lambda_min, lambda_max)\n",
    "    t = 2 * np.pi * scaling / lambda_min / (2**neg_vals)\n",
    "    A_circ.evolution_time = t   \n",
    "else:\n",
    "    scaling = 1./2**n1"
   ]
  },
  {
   "cell_type": "code",
   "execution_count": 10,
   "id": "c0cadc9e",
   "metadata": {},
   "outputs": [
    {
     "name": "stdout",
     "output_type": "stream",
     "text": [
      "6.283185307179586 0.25 3 2.6666666666666665 0.125 0.3333333333333333\n"
     ]
    }
   ],
   "source": [
    "print(t, scaling, nl, kappa, lambda_min, lambda_max)"
   ]
  },
  {
   "cell_type": "code",
   "execution_count": 11,
   "id": "8727e0b8",
   "metadata": {},
   "outputs": [],
   "source": [
    "n = 1\n",
    "nanc = 3"
   ]
  },
  {
   "cell_type": "code",
   "execution_count": 12,
   "id": "bef2b580",
   "metadata": {},
   "outputs": [],
   "source": [
    "qreg = QuantumRegister(n, 'q_reg')\n",
    "circ = QuantumCircuit(qreg)"
   ]
  },
  {
   "cell_type": "code",
   "execution_count": 13,
   "id": "da56a2bf",
   "metadata": {},
   "outputs": [],
   "source": [
    "circ.h(qreg[0]);"
   ]
  },
  {
   "cell_type": "code",
   "execution_count": 14,
   "id": "5be502d1",
   "metadata": {},
   "outputs": [],
   "source": [
    "backend = Aer.get_backend('statevector_simulator')\n",
    "job = execute(circ, backend)\n",
    "result = job.result()\n",
    "in_vector = np.asarray(result.get_statevector())"
   ]
  },
  {
   "cell_type": "code",
   "execution_count": 15,
   "id": "9056961a",
   "metadata": {},
   "outputs": [],
   "source": [
    "qanc = QuantumRegister(nanc, 'q_anc')\n",
    "qtarg = QuantumRegister(1, 'q_targ')\n",
    "\n",
    "circ.add_register(qanc, qtarg)"
   ]
  },
  {
   "cell_type": "code",
   "execution_count": 16,
   "id": "7f7c8902",
   "metadata": {},
   "outputs": [],
   "source": [
    "circ = HHL_itt(circ, qreg, qanc, qtarg, A, t=t, scaling=scaling)"
   ]
  },
  {
   "cell_type": "code",
   "execution_count": 17,
   "id": "be05d39c",
   "metadata": {},
   "outputs": [
    {
     "data": {
      "image/png": "[encoded data removed]",
      "text/plain": [
       "<PIL.Image.Image image mode=RGB size=425x149>"
      ]
     },
     "execution_count": 17,
     "metadata": {},
     "output_type": "execute_result"
    }
   ],
   "source": [
    "circ.draw('latex')"
   ]
  },
  {
   "cell_type": "code",
   "execution_count": 18,
   "id": "97622a3a",
   "metadata": {
    "scrolled": false
   },
   "outputs": [],
   "source": [
    "backend = Aer.get_backend('statevector_simulator')\n",
    "job = execute(circ, backend)\n",
    "result = job.result()\n",
    "state_vector = np.asarray(result.get_statevector())"
   ]
  },
  {
   "cell_type": "code",
   "execution_count": 19,
   "id": "f0915301",
   "metadata": {},
   "outputs": [
    {
     "name": "stdout",
     "output_type": "stream",
     "text": [
      "(-0.7071067811865481+4.932632734248251e-16j) (-0.2290763333416968+1.4409046872332354e-16j)\n"
     ]
    }
   ],
   "source": [
    "print(state_vector[16],state_vector[17])"
   ]
  },
  {
   "cell_type": "code",
   "execution_count": 20,
   "id": "3166d3cd",
   "metadata": {},
   "outputs": [],
   "source": [
    "state_v = np.asarray(state_vector).reshape((2**1,2**nanc,2**n))#.T"
   ]
  },
  {
   "cell_type": "code",
   "execution_count": 21,
   "id": "ad49b2d8",
   "metadata": {},
   "outputs": [
    {
     "name": "stdout",
     "output_type": "stream",
     "text": [
      "(2, 8, 2)\n"
     ]
    }
   ],
   "source": [
    "# 1, nanc, n\n",
    "print(state_v.shape)"
   ]
  },
  {
   "cell_type": "code",
   "execution_count": 22,
   "id": "4bc6e3b6",
   "metadata": {},
   "outputs": [],
   "source": [
    "norm = np.sqrt(np.sum(np.abs(state_v[1])**2))"
   ]
  },
  {
   "cell_type": "code",
   "execution_count": 23,
   "id": "cf676e6a",
   "metadata": {},
   "outputs": [],
   "source": [
    "state_v = np.sum(state_v[1], axis=0)"
   ]
  },
  {
   "cell_type": "code",
   "execution_count": 24,
   "id": "6280a7eb",
   "metadata": {},
   "outputs": [
    {
     "data": {
      "image/png": "[encoded data removed]",
      "text/plain": [
       "<Figure size 1000x1600 with 2 Axes>"
      ]
     },
     "metadata": {},
     "output_type": "display_data"
    }
   ],
   "source": [
    "fig = plt.figure(figsize=np.array(figsize)*[1,2])\n",
    "ax = fig.add_subplot(211)\n",
    "\n",
    "plt.scatter(np.arange(2**n), state_v.real, marker='.', color='black')\n",
    "plt.scatter(np.arange(2**n), state_v.imag, marker='.', color='grey')\n",
    "ax.set_ylabel('Amplitude', fontsize=fontsize);\n",
    "ax.tick_params(axis='both', labelsize=ticksize);\n",
    "\n",
    "ax = fig.add_subplot(212)\n",
    "\n",
    "plt.bar(np.arange(2**n), np.abs(state_v)**2, color='black')\n",
    "ax.set_ylabel('Probability', fontsize=fontsize);\n",
    "ax.tick_params(axis='both', labelsize=ticksize);"
   ]
  },
  {
   "cell_type": "code",
   "execution_count": 25,
   "id": "4cf6b198",
   "metadata": {},
   "outputs": [],
   "source": [
    "state_v = state_v.real/np.sqrt(np.sum(np.abs(state_v)**2))"
   ]
  },
  {
   "cell_type": "code",
   "execution_count": 26,
   "id": "9323f8f5",
   "metadata": {},
   "outputs": [],
   "source": [
    "targ = np.matmul(np.linalg.inv(A),in_vector)"
   ]
  },
  {
   "cell_type": "code",
   "execution_count": 27,
   "id": "89d37ba7",
   "metadata": {},
   "outputs": [],
   "source": [
    "norm = norm/lambda_min"
   ]
  },
  {
   "cell_type": "code",
   "execution_count": 28,
   "id": "98b4443b",
   "metadata": {},
   "outputs": [],
   "source": [
    "out = state_v*norm"
   ]
  },
  {
   "cell_type": "code",
   "execution_count": 29,
   "id": "0215ac2a",
   "metadata": {},
   "outputs": [
    {
     "name": "stdout",
     "output_type": "stream",
     "text": [
      "[-6.08745047  0.29503801] [-5.65685425+0.j -2.12132034+0.j]\n"
     ]
    }
   ],
   "source": [
    "print(out, targ)"
   ]
  }
 ],
 "metadata": {
  "kernelspec": {
   "display_name": "Python 3 (ipykernel)",
   "language": "python",
   "name": "python3"
  },
  "language_info": {
   "codemirror_mode": {
    "name": "ipython",
    "version": 3
   },
   "file_extension": ".py",
   "mimetype": "text/x-python",
   "name": "python",
   "nbconvert_exporter": "python",
   "pygments_lexer": "ipython3",
   "version": "3.10.12"
  }
 },
 "nbformat": 4,
 "nbformat_minor": 5
}
