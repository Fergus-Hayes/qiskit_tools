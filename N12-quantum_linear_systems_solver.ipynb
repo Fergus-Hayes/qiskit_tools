{
 "cells": [
  {
   "cell_type": "markdown",
   "id": "11060d35",
   "metadata": {},
   "source": [
    "# Quantum linear system solver\n",
    "\n",
    "One use of the quantum phase estimation algorithm is to solve systems of linear equations, as first proposed in the famous [HHL algorithm](https://journals.aps.org/prl/abstract/10.1103/PhysRevLett.103.150502) as will be discussed in this section. The goal of this algorithm is that given $N\\times N$ matrix $A$ and vector $\\mathbf{b}$ of length $N$ to find vector $\\mathbf{x}$ such that:\n",
    "\n",
    "$$ A\\mathbf{x} = \\mathbf{b}. $$\n",
    "\n",
    "Classically, this would typically involve calculating $A^{-1}$ and calculating $A^{-1}\\mathbf{b}$ with a complexity of $O(N^{k})$ where $k$ lies between $2-3$.\n",
    "\n",
    "The HHL algorithm looks to solve an analogous quantum problem where we have a state $|b\\rangle$ of $n$ qubits and a $2^n \\times 2^n$ unitary operator $\\hat{A}$ where we wish to prepare the state $|x\\rangle$ such that:\n",
    "\n",
    "$$ \\hat{A}|x\\rangle = |b\\rangle. $$\n",
    "\n",
    "At this point it is worth emphasising that, like the comparison between the quantum Fourier transform and the classical discrete Fourier transform, the classical and quantum linear system problems are distinctly different, and require different algorithms to solve. \n",
    "\n",
    "The HHL algorithm is performed in four steps:\n",
    "\n",
    "   1. Prepare state $|b\\rangle=\\sum^{2^{n}-1}_{j=0}\\beta_{j}|u_j\\rangle$ on a register of $n$ qubits where $u_j$ are the eigenbases of $A$ and coefficients $\\beta_j$.\n",
    "   \n",
    "   2. Apply quantum phase estimation algorithm to estimate the eigenvalues of $A$ given $|b\\rangle$ and save the result to a second ancillary register of $n_{out}$ qubits to produce state:\n",
    "   \n",
    "   $$ \\sum^{2^{n}-1}_{j=0}\\beta_j|u_j\\rangle|\\lambda_j\\rangle, $$\n",
    "   \n",
    "   where $\\lambda_j$ are the eigenvalues of $A$ corresponding to the eigenbases $u_j$.\n",
    "   \n",
    "   3. Introduce a third register of a single qubit and perform a rotation on this target qubit controlled on the second register to produce the state:\n",
    "   \n",
    "   $$ \\sum^{2^{n}-1}_{j=0}\\beta_j|u_j\\rangle|\\lambda_j\\rangle\\left(\\sqrt{1-(c\\lambda_{j}^{-1})^2}|0\\rangle + c\\lambda_{j}^{-1}|1\\rangle\\right). $$\n",
    "   \n",
    "   4. Apply the inverse quantum phase estimation algorithm to un-calculate the operation of step 2. to prepare the final state:\n",
    "   \n",
    "   $$ \\sum^{2^{n}-1}_{j=0}\\left(\\sqrt{1-(c\\lambda_{j}^{-1})^2}\\beta_j|0\\rangle + c\\lambda_{j}^{-1}\\beta_j|1\\rangle\\right)|\\lambda_j\\rangle. $$\n",
    "   \n",
    "The state resulting from step 4., if the target qubit is measured in the state $|1\\rangle$, the initial register is left in the (unnormalised) state:\n",
    "\n",
    "$$ \\sum^{2^{n}-1}_{j=0}\\lambda_{j}^{-1}\\beta_j|\\lambda_j\\rangle=\\hat{A}^{-1}|b\\rangle, $$\n",
    "\n",
    "as desired. Let us now use the quantum phase estimation from the previous notebook to perform the HHL algorithm."
   ]
  },
  {
   "cell_type": "code",
   "execution_count": 1,
   "id": "b824e8db",
   "metadata": {},
   "outputs": [],
   "source": [
    "from qiskit import QuantumCircuit, QuantumRegister, ClassicalRegister, execute, Aer, IBMQ\n",
    "from qiskit.circuit.library import ExactReciprocal\n",
    "from qiskit.extensions import HamiltonianGate\n",
    "from qiskit.quantum_info import random_hermitian\n",
    "import qiskit_tools as qt\n",
    "import numpy as np\n",
    "import matplotlib.pyplot as plt\n",
    "import matplotlib"
   ]
  },
  {
   "cell_type": "code",
   "execution_count": 2,
   "id": "193a06d8",
   "metadata": {},
   "outputs": [],
   "source": [
    "matplotlib.rcParams['mathtext.fontset'] = 'stix'\n",
    "matplotlib.rcParams['font.family'] = 'STIXGeneral'\n",
    "width=0.75\n",
    "color='black'\n",
    "fontsize=28\n",
    "ticksize=22\n",
    "figsize=(10,8)"
   ]
  },
  {
   "cell_type": "code",
   "execution_count": 3,
   "id": "c6c4af64",
   "metadata": {},
   "outputs": [],
   "source": [
    "def HHL(circ, qreg, qanc, qtarg, A, t=2.*np.pi, scaling=None, wrap=False, inverse=False, neg_vals=True, label='HHL'):\n",
    "        \n",
    "    n = len(qreg)\n",
    "    nanc = len(qanc)\n",
    "\n",
    "    if inverse:\n",
    "        wrap = True\n",
    "\n",
    "    if wrap:\n",
    "        qreg = QuantumRegister(n, 'q_reg')\n",
    "        qanc = QuantumRegister(nanc, 'q_anc')\n",
    "        qtarg = QuantumRegister(1, 'q_targ')\n",
    "        circ = QuantumCircuit(qreg, qanc, qtarg)\n",
    "\n",
    "    A_gate = HamiltonianGate(A, t)\n",
    "        \n",
    "    qe_gate = qt.PhaseEst(circ, qreg, qanc, A_gate, wrap=True, do_swaps=False, reverse_bits=True)\n",
    "    circ.append(qe_gate, [*qreg, *qanc]);\n",
    "        \n",
    "    rec_gate = ExactReciprocal(nanc, scaling=scaling, neg_vals=neg_vals).to_gate()\n",
    "    circ.append(rec_gate, [*qanc[::-1], qtarg]);\n",
    "\n",
    "    qe_gate_inv = qt.PhaseEst(circ, qreg, qanc, A_gate, wrap=True, inverse=True, do_swaps=False, reverse_bits=True)\n",
    "    circ.append(qe_gate_inv, [*qreg, *qanc]);\n",
    "    \n",
    "    if wrap:\n",
    "        circ = circ.to_gate()\n",
    "        circ.label = label\n",
    "\n",
    "    if inverse:\n",
    "        circ = circ.inverse()\n",
    "        circ.label = label+'\\dag'\n",
    "\n",
    "    return circ"
   ]
  },
  {
   "cell_type": "code",
   "execution_count": 4,
   "id": "66ab502d",
   "metadata": {},
   "outputs": [],
   "source": [
    "n = 2"
   ]
  },
  {
   "cell_type": "code",
   "execution_count": 5,
   "id": "6eebdf34",
   "metadata": {},
   "outputs": [
    {
     "name": "stdout",
     "output_type": "stream",
     "text": [
      "[[ 0.38637889+0.j          0.49095715-0.75532632j  0.27257681+0.25020569j\n",
      "  -0.70443521+0.02068663j]\n",
      " [ 0.49095715+0.75532632j -2.03395164+0.j         -0.0321368 -0.9525803j\n",
      "   0.96362389+0.21991644j]\n",
      " [ 0.27257681-0.25020569j -0.0321368 +0.9525803j   0.61085828+0.j\n",
      "  -1.00643899+0.95283291j]\n",
      " [-0.70443521-0.02068663j  0.96362389-0.21991644j -1.00643899-0.95283291j\n",
      "  -0.25717796+0.j        ]]\n"
     ]
    }
   ],
   "source": [
    "A = random_hermitian(2**n).to_matrix()\n",
    "print(A)"
   ]
  },
  {
   "cell_type": "code",
   "execution_count": 6,
   "id": "a0b00a5e",
   "metadata": {},
   "outputs": [],
   "source": [
    "def get_delta(n_l, lambda_min, lambda_max):\n",
    "    formatstr = \"#0\" + str(n_l + 2) + \"b\"\n",
    "    lambda_min_tilde = np.abs(lambda_min * (2**n_l - 1) / lambda_max)\n",
    "    # floating point precision can cause problems\n",
    "    if np.abs(lambda_min_tilde - 1) < 1e-7:\n",
    "        lambda_min_tilde = 1\n",
    "    binstr = format(int(lambda_min_tilde), formatstr)[2::]\n",
    "    lamb_min_rep = 0\n",
    "    for i, char in enumerate(binstr):\n",
    "        lamb_min_rep += int(char) / (2 ** (i + 1))\n",
    "    return lamb_min_rep"
   ]
  },
  {
   "cell_type": "code",
   "execution_count": 7,
   "id": "ffd499a7",
   "metadata": {},
   "outputs": [
    {
     "name": "stdout",
     "output_type": "stream",
     "text": [
      "1.0360319049844795 0.21875 8 4.397493950994111 0.663322615516423 2.9169571892910624\n"
     ]
    }
   ],
   "source": [
    "phase = True\n",
    "\n",
    "lambda_min = np.min(np.abs(np.linalg.eigvals(A)))\n",
    "lambda_max = np.max(np.abs(np.linalg.eigvals(A)))\n",
    "kappa = np.abs(lambda_max/lambda_min)\n",
    "\n",
    "# Choose a sucess probability of determining \n",
    "p_suc = 0.99\n",
    "# Determine the number of ancillary\n",
    "nanc = n + int(np.ceil(np.log2(2. + 1./(2.*(1-p_suc)))))\n",
    "\n",
    "# Calculate the new scale of the relative magnitudes of maximum and minimum eigenvalues\n",
    "rescale = int((2**(nanc-phase)-1)/kappa)\n",
    "# Make sure this scaling is not vanishingly small\n",
    "if rescale < 1.e-7:\n",
    "    rescale = 1\n",
    "    \n",
    "# determine the number of integer qubits required\n",
    "nint = qt.get_nint(rescale)\n",
    "# Assert that the number of integer qubits is equal to or greater than the number of ancillary qubits assigned\n",
    "if nint < nanc - phase:\n",
    "    nint = nanc - phase\n",
    "\n",
    "scaling = qt.bin_to_dec(qt.my_binary_repr(rescale, nint=nint, n=nint, phase=False), nint=0, phase=False)#get_delta(nanc - phase, lambda_min, lambda_max)\n",
    "t0 = scaling / (lambda_min * (2**phase))\n",
    "t = 2 * np.pi * t0\n",
    "\n",
    "print(t, scaling, nanc, kappa, lambda_min, lambda_max)"
   ]
  },
  {
   "cell_type": "code",
   "execution_count": 8,
   "id": "bef2b580",
   "metadata": {},
   "outputs": [],
   "source": [
    "qreg = QuantumRegister(n, 'q_reg')\n",
    "circ = QuantumCircuit(qreg)"
   ]
  },
  {
   "cell_type": "code",
   "execution_count": 9,
   "id": "b24fd794",
   "metadata": {},
   "outputs": [],
   "source": [
    "circ.h(qreg);"
   ]
  },
  {
   "cell_type": "code",
   "execution_count": 10,
   "id": "5be502d1",
   "metadata": {},
   "outputs": [],
   "source": [
    "backend = Aer.get_backend('statevector_simulator')\n",
    "job = execute(circ, backend)\n",
    "result = job.result()\n",
    "in_vector = np.asarray(result.get_statevector())"
   ]
  },
  {
   "cell_type": "code",
   "execution_count": 11,
   "id": "87aec972",
   "metadata": {},
   "outputs": [
    {
     "name": "stdout",
     "output_type": "stream",
     "text": [
      "[0.5+0.j 0.5+0.j 0.5+0.j 0.5+0.j]\n"
     ]
    }
   ],
   "source": [
    "print(in_vector)"
   ]
  },
  {
   "cell_type": "code",
   "execution_count": 12,
   "id": "9056961a",
   "metadata": {},
   "outputs": [],
   "source": [
    "qanc = QuantumRegister(nanc, 'q_anc')\n",
    "qtarg = QuantumRegister(1, 'q_targ')\n",
    "\n",
    "circ.add_register(qanc, qtarg)"
   ]
  },
  {
   "cell_type": "code",
   "execution_count": 13,
   "id": "b12019b0",
   "metadata": {},
   "outputs": [],
   "source": [
    "circ = HHL(circ, qreg, qanc, qtarg, A, t=t, scaling=scaling)"
   ]
  },
  {
   "cell_type": "code",
   "execution_count": 14,
   "id": "be05d39c",
   "metadata": {},
   "outputs": [
    {
     "data": {
      "image/png": "[encoded data removed]",
      "text/plain": [
       "<PIL.Image.Image image mode=RGB size=425x334>"
      ]
     },
     "execution_count": 14,
     "metadata": {},
     "output_type": "execute_result"
    }
   ],
   "source": [
    "circ.draw('latex')"
   ]
  },
  {
   "cell_type": "code",
   "execution_count": 15,
   "id": "97622a3a",
   "metadata": {
    "scrolled": false
   },
   "outputs": [],
   "source": [
    "backend = Aer.get_backend('statevector_simulator')\n",
    "job = execute(circ, backend)\n",
    "result = job.result()\n",
    "state_vector = np.asarray(result.get_statevector())"
   ]
  },
  {
   "cell_type": "code",
   "execution_count": 16,
   "id": "3166d3cd",
   "metadata": {},
   "outputs": [],
   "source": [
    "state_v = np.asarray(state_vector).reshape((2**1,2**nanc,2**n))"
   ]
  },
  {
   "cell_type": "code",
   "execution_count": 17,
   "id": "ad49b2d8",
   "metadata": {},
   "outputs": [
    {
     "name": "stdout",
     "output_type": "stream",
     "text": [
      "(2, 256, 4)\n"
     ]
    }
   ],
   "source": [
    "# 1, nanc, n\n",
    "print(state_v.shape)"
   ]
  },
  {
   "cell_type": "code",
   "execution_count": 18,
   "id": "4bc6e3b6",
   "metadata": {},
   "outputs": [
    {
     "name": "stdout",
     "output_type": "stream",
     "text": [
      "0.7211800976291101\n"
     ]
    }
   ],
   "source": [
    "norm_ = np.sqrt(np.sum(np.abs(state_v[1])**2))\n",
    "print(norm_)"
   ]
  },
  {
   "cell_type": "code",
   "execution_count": 19,
   "id": "cf676e6a",
   "metadata": {},
   "outputs": [],
   "source": [
    "state_v = state_v[1,0]"
   ]
  },
  {
   "cell_type": "code",
   "execution_count": 20,
   "id": "6ba09ea4",
   "metadata": {},
   "outputs": [
    {
     "name": "stdout",
     "output_type": "stream",
     "text": [
      "[ 0.43625394-0.27800909j  0.10039578+0.05151897j -0.11915875+0.36069081j\n",
      " -0.27632781-0.13420069j]\n"
     ]
    }
   ],
   "source": [
    "print(state_v)"
   ]
  },
  {
   "cell_type": "code",
   "execution_count": 21,
   "id": "6280a7eb",
   "metadata": {
    "scrolled": false
   },
   "outputs": [
    {
     "data": {
      "image/png": "[encoded data removed]",
      "text/plain": [
       "<Figure size 1000x1600 with 2 Axes>"
      ]
     },
     "metadata": {},
     "output_type": "display_data"
    }
   ],
   "source": [
    "fig = plt.figure(figsize=np.array(figsize)*[1,2])\n",
    "ax = fig.add_subplot(211)\n",
    "\n",
    "plt.scatter(np.arange(2**n), state_v.real, marker='.', color='black')\n",
    "plt.scatter(np.arange(2**n), state_v.imag, marker='.', color='grey')\n",
    "ax.set_ylabel('Amplitude', fontsize=fontsize);\n",
    "ax.tick_params(axis='both', labelsize=ticksize);\n",
    "\n",
    "ax = fig.add_subplot(212)\n",
    "\n",
    "plt.bar(np.arange(2**n), np.abs(state_v)**2, color='black')\n",
    "ax.set_ylabel('Probability', fontsize=fontsize);\n",
    "ax.tick_params(axis='both', labelsize=ticksize);"
   ]
  },
  {
   "cell_type": "code",
   "execution_count": 22,
   "id": "4cf6b198",
   "metadata": {},
   "outputs": [],
   "source": [
    "state_v = state_v.real/np.sqrt(np.sum(np.abs(state_v)**2))"
   ]
  },
  {
   "cell_type": "code",
   "execution_count": 23,
   "id": "9323f8f5",
   "metadata": {},
   "outputs": [],
   "source": [
    "targ = np.matmul(np.linalg.inv(A),in_vector).real"
   ]
  },
  {
   "cell_type": "code",
   "execution_count": 24,
   "id": "89d37ba7",
   "metadata": {},
   "outputs": [],
   "source": [
    "norm = norm_/lambda_min"
   ]
  },
  {
   "cell_type": "code",
   "execution_count": 25,
   "id": "98b4443b",
   "metadata": {},
   "outputs": [],
   "source": [
    "out = state_v*norm"
   ]
  },
  {
   "cell_type": "code",
   "execution_count": 26,
   "id": "0215ac2a",
   "metadata": {
    "scrolled": true
   },
   "outputs": [
    {
     "name": "stdout",
     "output_type": "stream",
     "text": [
      "[ 0.65837465  0.15151275 -0.17982897 -0.41702139] [ 0.65739001  0.15036164 -0.18132416 -0.419103  ]\n"
     ]
    }
   ],
   "source": [
    "print(out, targ)"
   ]
  },
  {
   "cell_type": "code",
   "execution_count": 27,
   "id": "4dc483f0",
   "metadata": {},
   "outputs": [
    {
     "data": {
      "text/plain": [
       "array([1.0014978 , 1.00765559, 0.99175407, 0.99503318])"
      ]
     },
     "execution_count": 27,
     "metadata": {},
     "output_type": "execute_result"
    }
   ],
   "source": [
    "out/targ"
   ]
  }
 ],
 "metadata": {
  "kernelspec": {
   "display_name": "Python 3 (ipykernel)",
   "language": "python",
   "name": "python3"
  },
  "language_info": {
   "codemirror_mode": {
    "name": "ipython",
    "version": 3
   },
   "file_extension": ".py",
   "mimetype": "text/x-python",
   "name": "python",
   "nbconvert_exporter": "python",
   "pygments_lexer": "ipython3",
   "version": "3.10.12"
  }
 },
 "nbformat": 4,
 "nbformat_minor": 5
}
