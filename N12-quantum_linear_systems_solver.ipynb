{
 "cells": [
  {
   "cell_type": "markdown",
   "id": "23e27cf3",
   "metadata": {},
   "source": [
    "# Quantum linear system solver\n",
    "\n",
    "One use of the quantum phase estimation algorithm is to solve systems of linear equations, as first proposed in the famous [HHL algorithm](https://journals.aps.org/prl/abstract/10.1103/PhysRevLett.103.150502) as will be discussed in this section. The goal of this algorithm is that given $N\\times N$ matrix $A$ and vector $\\mathbf{b}$ of length $N$ to find vector $\\mathbf{x}$ such that:\n",
    "\n",
    "$$ A\\mathbf{x} = \\mathbf{b}. $$\n",
    "\n",
    "Classically, this would typically involve calculating $A^{-1}$ and calculating $A^{-1}\\mathbf{b}$ with a complexity of $O(N^{k})$ where $k$ lies between $2-3$.\n",
    "\n",
    "The HHL algorithm looks to solve an analogous quantum problem where we have a state $|b\\rangle$ of $n$ qubits and a $2^n \\times 2^n$ unitary operator $\\hat{A}$ where we wish to prepare the state $|x\\rangle$ such that:\n",
    "\n",
    "$$ \\hat{A}|x\\rangle = |b\\rangle. $$\n",
    "\n",
    "At this point it is worth emphasising that, like the comparison between the quantum Fourier transform and the classical discrete Fourier transform, the classical and quantum linear system problems are distinctly different, and require different algorithms to solve. \n",
    "\n",
    "The HHL algorithm is performed in four steps:\n",
    "\n",
    "   1. Prepare state $|b\\rangle=\\sum^{2^{n}-1}_{j=0}\\beta_{j}|u_j\\rangle$ on a register of $n$ qubits where $u_j$ are the eigenbases of $A$ and coefficients $\\beta_j$.\n",
    "   \n",
    "   2. Apply quantum phase estimation algorithm to estimate the eigenvalues of $A$ given $|b\\rangle$ and save the result to a second ancillary register of $n_{out}$ qubits to produce state:\n",
    "   \n",
    "   $$ \\sum^{2^{n}-1}_{j=0}\\beta_j|u_j\\rangle|\\lambda_j\\rangle, $$\n",
    "   \n",
    "   where $\\lambda_j$ are the eigenvalues of $A$ corresponding to the eigenbases $u_j$.\n",
    "   \n",
    "   3. Introduce a third register of a single qubit and perform a rotation with a scaling $c$ on this target qubit controlled on the second register to produce the state:\n",
    "   \n",
    "   $$ \\sum^{2^{n}-1}_{j=0}\\beta_j|u_j\\rangle|\\lambda_j\\rangle\\left(\\sqrt{1-(c\\lambda_{j}^{-1})^2}|0\\rangle + c\\lambda_{j}^{-1}|1\\rangle\\right). $$\n",
    "   \n",
    "   4. Apply the inverse quantum phase estimation algorithm to un-calculate the operation of step 2 to prepare the final state:\n",
    "   \n",
    "   $$ \\sum^{2^{n}-1}_{j=0}\\left(\\sqrt{1-(c\\lambda_{j}^{-1})^2}\\beta_j|0\\rangle + c\\lambda_{j}^{-1}\\beta_j|1\\rangle\\right)|\\lambda_j\\rangle. $$\n",
    "   \n",
    "The state resulting from step 4, if the target qubit is measured in the state $|1\\rangle$, the initial register is left in the (unnormalised) state:\n",
    "\n",
    "$$ \\sum^{2^{n}-1}_{j=0}\\lambda_{j}^{-1}\\beta_j|\\lambda_j\\rangle=\\hat{A}^{-1}|b\\rangle, $$\n",
    "\n",
    "as desired. Let us now use the quantum phase estimation from the previous notebook to perform the HHL algorithm."
   ]
  },
  {
   "cell_type": "code",
   "execution_count": 1,
   "id": "b824e8db",
   "metadata": {},
   "outputs": [],
   "source": [
    "from qiskit import QuantumCircuit, QuantumRegister, ClassicalRegister, execute, Aer, IBMQ\n",
    "from qiskit.circuit.library import ExactReciprocal\n",
    "from qiskit.extensions import HamiltonianGate\n",
    "from qiskit.quantum_info import random_hermitian\n",
    "import qiskit_tools as qt\n",
    "import numpy as np\n",
    "import matplotlib.pyplot as plt\n",
    "import matplotlib"
   ]
  },
  {
   "cell_type": "code",
   "execution_count": 2,
   "id": "193a06d8",
   "metadata": {},
   "outputs": [],
   "source": [
    "matplotlib.rcParams['mathtext.fontset'] = 'stix'\n",
    "matplotlib.rcParams['font.family'] = 'STIXGeneral'\n",
    "width=0.75\n",
    "color='black'\n",
    "fontsize=28\n",
    "ticksize=22\n",
    "figsize=(10,8)"
   ]
  },
  {
   "cell_type": "markdown",
   "id": "5d7da7d1",
   "metadata": {},
   "source": [
    "We can encode steps 2-4 into the function below (step 1 is performed in advance), where step 3 can be performed by qiskits own `ExactReciprocal` function:"
   ]
  },
  {
   "cell_type": "code",
   "execution_count": 3,
   "id": "c6c4af64",
   "metadata": {},
   "outputs": [],
   "source": [
    "def HHL(circ, qb, qanc, qtarg, A, t=2.*np.pi, scaling=None, wrap=False, inverse=False, phase=True, label='HHL'):\n",
    "        \n",
    "    n = len(qb)\n",
    "    nanc = len(qanc)\n",
    "\n",
    "    if inverse:\n",
    "        wrap = True\n",
    "\n",
    "    if wrap:\n",
    "        qb = QuantumRegister(n, 'b')\n",
    "        qanc = QuantumRegister(nanc, 'anc')\n",
    "        qtarg = QuantumRegister(1, 'targ')\n",
    "        circ = QuantumCircuit(qb, qanc, qtarg)\n",
    "\n",
    "    # Define unitary operator given matrix A and evolution time t\n",
    "    A_gate = HamiltonianGate(A, t)\n",
    "    \n",
    "    # Apply phase estimation\n",
    "    qe_gate = qt.PhaseEst(circ, qb, qanc, A_gate, wrap=True, do_swaps=False, reverse_bits=True)\n",
    "    circ.append(qe_gate, [*qb, *qanc]);\n",
    "        \n",
    "    # Apply ExactReciprocal to rotate the target qubit proportionally to the given scaling and the inverse of the\n",
    "    # values stored in the computational basis of the ancillary register\n",
    "    rec_gate = ExactReciprocal(nanc, scaling=scaling, neg_vals=phase).to_gate()\n",
    "    circ.append(rec_gate, [*qanc[::-1], qtarg]);\n",
    "\n",
    "    # Apply the inverse phase estimation\n",
    "    qe_gate_inv = qt.PhaseEst(circ, qb, qanc, A_gate, wrap=True, inverse=True, do_swaps=False, reverse_bits=True)\n",
    "    circ.append(qe_gate_inv, [*qb, *qanc]);\n",
    "    \n",
    "    if wrap:\n",
    "        circ = circ.to_gate()\n",
    "        circ.label = label\n",
    "\n",
    "    if inverse:\n",
    "        circ = circ.inverse()\n",
    "        circ.label = label+'\\dag'\n",
    "\n",
    "    return circ"
   ]
  },
  {
   "cell_type": "markdown",
   "id": "e46a4a59",
   "metadata": {},
   "source": [
    "Let us set the number of qubits of state $|b\\rangle$:"
   ]
  },
  {
   "cell_type": "code",
   "execution_count": 4,
   "id": "9a921585",
   "metadata": {},
   "outputs": [],
   "source": [
    "n = 2"
   ]
  },
  {
   "cell_type": "markdown",
   "id": "90f47eee",
   "metadata": {},
   "source": [
    "and produce a random $2^{n}\\times2^{n}$ Hermitian matrix:"
   ]
  },
  {
   "cell_type": "code",
   "execution_count": 5,
   "id": "6eebdf34",
   "metadata": {
    "scrolled": true
   },
   "outputs": [
    {
     "name": "stdout",
     "output_type": "stream",
     "text": [
      "[[ 1.10043084+0.j          0.13037837-0.44018997j -0.27957013+0.29272314j\n",
      "   0.63317033+0.21737848j]\n",
      " [ 0.13037837+0.44018997j  0.14759127+0.j         -0.0129562 +0.01565753j\n",
      "  -0.35900601+0.55504771j]\n",
      " [-0.27957013-0.29272314j -0.0129562 -0.01565753j -0.23761652+0.j\n",
      "  -1.16584858-0.39350631j]\n",
      " [ 0.63317033-0.21737848j -0.35900601-0.55504771j -1.16584858+0.39350631j\n",
      "  -0.42574877+0.j        ]]\n"
     ]
    }
   ],
   "source": [
    "A = random_hermitian(2**n).to_matrix()\n",
    "print(A)"
   ]
  },
  {
   "cell_type": "markdown",
   "id": "1033273f",
   "metadata": {},
   "source": [
    "Similar to the previous notebook, we will cheat and calculate the minimum and maximum eigenvalues and the corresponding conditioning number $\\kappa$. However, we note again that only an estimate of these values are required and not exact values."
   ]
  },
  {
   "cell_type": "code",
   "execution_count": 6,
   "id": "9b46c5b2",
   "metadata": {},
   "outputs": [
    {
     "name": "stdout",
     "output_type": "stream",
     "text": [
      "Minimum eigenvalue, maximum eigenvalue and conditional number of A: 0.10918390163740106 1.9476214671340895 17.837991113398072\n"
     ]
    }
   ],
   "source": [
    "lambda_min = np.min(np.abs(np.linalg.eigvals(A)))\n",
    "lambda_max = np.max(np.abs(np.linalg.eigvals(A)))\n",
    "kappa = np.abs(lambda_max/lambda_min)\n",
    "\n",
    "print('Minimum eigenvalue, maximum eigenvalue and conditional number of A:', lambda_min, lambda_max, kappa)"
   ]
  },
  {
   "cell_type": "markdown",
   "id": "1b45f648",
   "metadata": {},
   "source": [
    "As before, we will also determine the number of needed ancillary qubits given the relation $n_{anc}\\ge n + \\lceil\\log_2(2 + \\frac{1}{2(1-p_{suc}))}\\rceil$, where $p_{suc}$ is the probability of returning a close estimate of an eigenvalue from the phase estimation algorithm:"
   ]
  },
  {
   "cell_type": "code",
   "execution_count": 7,
   "id": "69a7962d",
   "metadata": {},
   "outputs": [],
   "source": [
    "phase = True\n",
    "\n",
    "# Choose a success probability of determining eigenvalue estimation\n",
    "p_suc = 0.99\n",
    "# Determine the number of ancillary qubits to ensure the given success probability\n",
    "nanc = n + int(np.ceil(np.log2(2. + 1./(2.*(1-p_suc)))))"
   ]
  },
  {
   "cell_type": "markdown",
   "id": "718838b9",
   "metadata": {},
   "source": [
    "As before, we determine the optimal evolution time parameter $t_0$ from $\\kappa$ and the minimum eigenvalue:"
   ]
  },
  {
   "cell_type": "code",
   "execution_count": 8,
   "id": "ffd34d2c",
   "metadata": {},
   "outputs": [],
   "source": [
    "# Calculate the new scale of the relative magnitudes of maximum and minimum eigenvalues\n",
    "rescale = int((2**(nanc-phase)-1)/kappa)\n",
    "# Make sure this scaling is not vanishingly small\n",
    "if rescale < 1.e-7:\n",
    "    rescale = 1\n",
    "    \n",
    "# determine the number of integer qubits required\n",
    "nint = qt.get_nint(rescale)\n",
    "# Assert that the number of integer qubits is equal to or greater than the number of ancillary qubits assigned\n",
    "if nint < nanc - phase:\n",
    "    nint = nanc - phase\n",
    "    \n",
    "# We can determine the scaling of the rotation of step 3 (variable c)\n",
    "scaling = qt.bin_to_dec(qt.my_binary_repr(rescale, nint=nint, n=nint, phase=False), nint=0, phase=False)\n",
    "t0 = scaling / (lambda_min * (2**phase))\n",
    "t = 2 * np.pi * t0"
   ]
  },
  {
   "cell_type": "markdown",
   "id": "60e8684f",
   "metadata": {},
   "source": [
    "Let us first perform step 1 by defining $|b\\rangle$:"
   ]
  },
  {
   "cell_type": "code",
   "execution_count": 9,
   "id": "bef2b580",
   "metadata": {},
   "outputs": [],
   "source": [
    "qb = QuantumRegister(n, 'b')\n",
    "circ = QuantumCircuit(qb)"
   ]
  },
  {
   "cell_type": "markdown",
   "id": "13741e61",
   "metadata": {},
   "source": [
    "and prepare this state simply as an equal superposition:"
   ]
  },
  {
   "cell_type": "code",
   "execution_count": 10,
   "id": "b24fd794",
   "metadata": {},
   "outputs": [],
   "source": [
    "circ.h(qb);"
   ]
  },
  {
   "cell_type": "code",
   "execution_count": 11,
   "id": "5be502d1",
   "metadata": {},
   "outputs": [],
   "source": [
    "backend = Aer.get_backend('statevector_simulator')\n",
    "job = execute(circ, backend)\n",
    "result = job.result()\n",
    "in_vector = np.asarray(result.get_statevector())"
   ]
  },
  {
   "cell_type": "markdown",
   "id": "3d02b430",
   "metadata": {},
   "source": [
    "We can determine the vector form of $b$ to be:"
   ]
  },
  {
   "cell_type": "code",
   "execution_count": 12,
   "id": "87aec972",
   "metadata": {},
   "outputs": [
    {
     "name": "stdout",
     "output_type": "stream",
     "text": [
      "The state amplitudes of b are: [0.5+0.j 0.5+0.j 0.5+0.j 0.5+0.j]\n"
     ]
    }
   ],
   "source": [
    "print('The state amplitudes of b are:',in_vector)"
   ]
  },
  {
   "cell_type": "markdown",
   "id": "4712c89f",
   "metadata": {},
   "source": [
    "which we can use later to verify our output by comparing it to the target $x$:"
   ]
  },
  {
   "cell_type": "code",
   "execution_count": 13,
   "id": "9323f8f5",
   "metadata": {},
   "outputs": [
    {
     "name": "stdout",
     "output_type": "stream",
     "text": [
      "The target state amplitudes of x are: [ 1.27187202-0.33323127j -0.71306401+0.1485272j   0.7955263 +0.12079413j\n",
      " -0.94818401+0.06390995j]\n"
     ]
    }
   ],
   "source": [
    "targ = np.matmul(np.linalg.inv(A),in_vector)\n",
    "print('The target state amplitudes of x are:',targ)"
   ]
  },
  {
   "cell_type": "markdown",
   "id": "c27f00a4",
   "metadata": {},
   "source": [
    "Now let's define the ancillary and target registers and add them to the circuit:"
   ]
  },
  {
   "cell_type": "code",
   "execution_count": 14,
   "id": "9056961a",
   "metadata": {},
   "outputs": [],
   "source": [
    "qanc = QuantumRegister(nanc, 'anc')\n",
    "qtarg = QuantumRegister(1, 'targ')\n",
    "\n",
    "circ.add_register(qanc, qtarg)"
   ]
  },
  {
   "cell_type": "markdown",
   "id": "a9507221",
   "metadata": {},
   "source": [
    "and applying the HHL algorithm:"
   ]
  },
  {
   "cell_type": "code",
   "execution_count": 15,
   "id": "b12019b0",
   "metadata": {},
   "outputs": [],
   "source": [
    "circ = HHL(circ, qb, qanc, qtarg, A, t=t, scaling=scaling)"
   ]
  },
  {
   "cell_type": "markdown",
   "id": "1ee53893",
   "metadata": {},
   "source": [
    "we get the circuit shown below:"
   ]
  },
  {
   "cell_type": "code",
   "execution_count": 16,
   "id": "be05d39c",
   "metadata": {
    "scrolled": true
   },
   "outputs": [
    {
     "data": {
      "image/png": "[encoded data removed]",
      "text/plain": [
       "<PIL.Image.Image image mode=RGB size=408x334>"
      ]
     },
     "execution_count": 16,
     "metadata": {},
     "output_type": "execute_result"
    }
   ],
   "source": [
    "circ.draw('latex')"
   ]
  },
  {
   "cell_type": "markdown",
   "id": "ba78cd94",
   "metadata": {},
   "source": [
    "Now let us take a look at the resulting state:"
   ]
  },
  {
   "cell_type": "code",
   "execution_count": 17,
   "id": "97622a3a",
   "metadata": {
    "scrolled": false
   },
   "outputs": [],
   "source": [
    "backend = Aer.get_backend('statevector_simulator')\n",
    "job = execute(circ, backend)\n",
    "result = job.result()\n",
    "state_vector = np.asarray(result.get_statevector())"
   ]
  },
  {
   "cell_type": "code",
   "execution_count": 18,
   "id": "3166d3cd",
   "metadata": {},
   "outputs": [],
   "source": [
    "state_v = np.asarray(state_vector).reshape((2**1,2**nanc,2**n))"
   ]
  },
  {
   "cell_type": "code",
   "execution_count": 19,
   "id": "ad49b2d8",
   "metadata": {},
   "outputs": [
    {
     "name": "stdout",
     "output_type": "stream",
     "text": [
      "(2, 256, 4)\n"
     ]
    }
   ],
   "source": [
    "# 1, nanc, n\n",
    "print(state_v.shape)"
   ]
  },
  {
   "cell_type": "markdown",
   "id": "b1a663a2",
   "metadata": {},
   "source": [
    "We can determine the normalisation coefficient by measuring the probability of measuring the target qubit in state $|1\\rangle$:"
   ]
  },
  {
   "cell_type": "code",
   "execution_count": 20,
   "id": "4bc6e3b6",
   "metadata": {},
   "outputs": [
    {
     "name": "stdout",
     "output_type": "stream",
     "text": [
      "The target qubit is in the 1 state with probability: 0.21436123603378443\n"
     ]
    }
   ],
   "source": [
    "norm_ = np.sqrt(np.sum(np.abs(state_v[1])**2))\n",
    "print('The target qubit is in the 1 state with probability:',norm_)"
   ]
  },
  {
   "cell_type": "markdown",
   "id": "78fd194c",
   "metadata": {},
   "source": [
    "Measuring the target qubit in state $|1\\rangle$, and the ancillary register in state $|0\\rangle^{\\otimes n_{anc}}$:"
   ]
  },
  {
   "cell_type": "code",
   "execution_count": 21,
   "id": "cf676e6a",
   "metadata": {},
   "outputs": [],
   "source": [
    "state_v = state_v[1,0]"
   ]
  },
  {
   "cell_type": "markdown",
   "id": "70c7b74b",
   "metadata": {},
   "source": [
    "results in the unnormalised state:"
   ]
  },
  {
   "cell_type": "code",
   "execution_count": 22,
   "id": "6ba09ea4",
   "metadata": {},
   "outputs": [
    {
     "name": "stdout",
     "output_type": "stream",
     "text": [
      "[ 0.13858273-0.03638431j -0.07790933+0.01609339j  0.08697338+0.01326696j\n",
      " -0.10345343+0.00702396j]\n"
     ]
    }
   ],
   "source": [
    "print(state_v)"
   ]
  },
  {
   "cell_type": "markdown",
   "id": "d1a8d1b7",
   "metadata": {},
   "source": [
    "Let us renormalize this state:"
   ]
  },
  {
   "cell_type": "code",
   "execution_count": 23,
   "id": "4cf6b198",
   "metadata": {},
   "outputs": [],
   "source": [
    "state_v = np.array(state_v/np.sqrt(np.sum(np.abs(state_v)**2)))"
   ]
  },
  {
   "cell_type": "markdown",
   "id": "f41eaf4b",
   "metadata": {},
   "source": [
    "We can rescale these states in order to compare them to the target result:"
   ]
  },
  {
   "cell_type": "code",
   "execution_count": 24,
   "id": "89d37ba7",
   "metadata": {},
   "outputs": [
    {
     "name": "stdout",
     "output_type": "stream",
     "text": [
      "The amplitudes of the resulting states are: [ 1.2776363 -0.33543797j -0.71826977+0.14836981j  0.80183407+0.12231215j\n",
      " -0.9537686 +0.06475601j]\n"
     ]
    }
   ],
   "source": [
    "norm = norm_/lambda_min\n",
    "out = state_v*norm\n",
    "\n",
    "print('The amplitudes of the resulting states are:', out)"
   ]
  },
  {
   "cell_type": "markdown",
   "id": "1fade2ad",
   "metadata": {},
   "source": [
    "Let us compare the rescaled output states to the target state $|x\\rangle$:"
   ]
  },
  {
   "cell_type": "code",
   "execution_count": 25,
   "id": "4dc483f0",
   "metadata": {},
   "outputs": [
    {
     "name": "stdout",
     "output_type": "stream",
     "text": [
      "Ratio of real part of output to target: [1.00453212 1.00730055 1.00792905 1.00588977]\n",
      "Ratio of imaginary part of output to target: [1.00662213 0.99894031 1.01256708 1.01323838]\n"
     ]
    }
   ],
   "source": [
    "print('Ratio of real part of output to target:',out.real/targ.real)\n",
    "print('Ratio of imaginary part of output to target:',out.imag/targ.imag)"
   ]
  },
  {
   "cell_type": "markdown",
   "id": "94483c46",
   "metadata": {},
   "source": [
    "They should be comparable!"
   ]
  }
 ],
 "metadata": {
  "kernelspec": {
   "display_name": "Python 3 (ipykernel)",
   "language": "python",
   "name": "python3"
  },
  "language_info": {
   "codemirror_mode": {
    "name": "ipython",
    "version": 3
   },
   "file_extension": ".py",
   "mimetype": "text/x-python",
   "name": "python",
   "nbconvert_exporter": "python",
   "pygments_lexer": "ipython3",
   "version": "3.10.12"
  }
 },
 "nbformat": 4,
 "nbformat_minor": 5
}
