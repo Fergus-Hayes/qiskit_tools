{
 "cells": [
  {
   "cell_type": "markdown",
   "id": "885559dd",
   "metadata": {},
   "source": [
    "# Linear piecewise function\n",
    "\n",
    "\n",
    "In this notebook, we will look into how to evaluate a function using a linear piecewise approximation. This operation is based on the more general [piecewise polynomial function approximation](https://arxiv.org/abs/1805.12445). In this notebook we will have an overlook of what this requires, then we will build the operation using the elements we introduced in previous notebooks. \n",
    "\n",
    "## An overview\n",
    "\n",
    "As described in the previous notebook, we look to approximate the function $f(x)$ given $x$ with a linear function within $2^m$ domains such that $f(x)\\approx A_1^lx + A_0^l$ for $x$ within domain $l$.\n",
    "This operation takes the form:\n",
    "\n",
    "$$ |x\\rangle^{\\otimes n}_x|0\\rangle^{\\otimes n_a}_o \\rightarrow |x\\rangle^{\\otimes n}_x|A_1^l x + A_0^l \\rangle^{\\otimes n_a}_o, $$\n",
    "\n",
    "where we have excluded any ancillary registers. Here we will look into how this can be done. Let us break this operation down into several steps:\n",
    "\n",
    "   1. **Initialize** registers $x$ and empty output register $o$, coefficient register $c$ and label register $l$.\n",
    "   \n",
    "      $$ |x\\rangle^{\\otimes n}_x|0\\rangle^{\\otimes n_a}_o|0\\rangle^{\\otimes n_c}_c|0\\rangle^{\\otimes m}_l $$\n",
    "   \n",
    "   2. **Label** register $l$ on register $x$ given the $2^m$ domain bounds.\n",
    "\n",
    "      $$ |x\\rangle^{\\otimes n}_x|0\\rangle^{\\otimes n_a}_o|0\\rangle^{\\otimes n_c}_c|l\\rangle^{\\otimes m}_l $$\n",
    "\n",
    "   3. **Load** $A_1^l$ into register $c$ conditioned on register $l$.\n",
    "\n",
    "      $$ |x\\rangle^{\\otimes n}_x|0\\rangle^{\\otimes n_a}_o|A_1^l\\rangle^{\\otimes n_c}_c|l\\rangle^{\\otimes m}_l $$\n",
    "\n",
    "   4. Perform a **multiplication** operation on registers $x$, $c$ and $o$.\n",
    "\n",
    "      $$ |x\\rangle^{\\otimes n}_x|A_1^l x\\rangle^{\\otimes n_a}_o|A_1^l\\rangle^{\\otimes n_c}_c|l\\rangle^{\\otimes m}_l $$\n",
    "\n",
    "   5. **Unload** $A_1^l$ into register $c$ conditioned on register $l$.\n",
    "   \n",
    "      $$ |x\\rangle^{\\otimes n}_x|A_1^l x\\rangle^{\\otimes n_a}_o|0\\rangle^{\\otimes n_c}_c|l\\rangle^{\\otimes m}_l $$\n",
    "   \n",
    "   6. **Load** $A_0^l$ into register $c$ conditioned on register $l$.\n",
    "   \n",
    "      $$ |x\\rangle^{\\otimes n}_x|A_1^l x\\rangle^{\\otimes n_a}_o|A_0^l\\rangle^{\\otimes n_c}_c|l\\rangle^{\\otimes m}_l $$\n",
    "   \n",
    "   7. Perform an **addition** operation on register $c$ and $o$.\n",
    "   \n",
    "      $$ |x\\rangle^{\\otimes n}_x|A_1^l x+A_0^l\\rangle^{\\otimes n_a}_o|A_0^l\\rangle^{\\otimes n_c}_c|l\\rangle^{\\otimes m}_l $$\n",
    "   \n",
    "We can see that we need to perform a sequence of operations: label, load, multiplication and addition. These operations are depicted below, where the $X_{0,1}$ operation performs the loading of $A_0^{l}$ or $A_1^{l}$ respectively, and the inverse operation will unload the coefficient.\n",
    "\n",
    "<img src=\"LPF.png\">\n",
    "\n",
    "We have already introduced loading data, multiplication and addition in previous notebooks, so first we will look into introducing the label operation."
   ]
  },
  {
   "cell_type": "markdown",
   "id": "cbdb124d",
   "metadata": {},
   "source": [
    "## Label gate\n",
    "\n",
    "Firstly, we need to form the label gate that is capable of accessing if a given value stored in the $x$ register lies within the bounds of a given domain. Essentially, this requires evaluating if $a_l \\le x < a_{l+1}$ given the lower bounds of given domain $a_l$ and the boundary of the adjacent domain $a_{l+1}$. Let's look at how this can be done."
   ]
  },
  {
   "cell_type": "code",
   "execution_count": 1,
   "id": "35292aa1",
   "metadata": {},
   "outputs": [],
   "source": [
    "from qiskit import QuantumCircuit, QuantumRegister, ClassicalRegister, execute, Aer, IBMQ\n",
    "import qiskit_tools as qt\n",
    "import numpy as np\n",
    "import matplotlib.pyplot as plt\n",
    "import matplotlib"
   ]
  },
  {
   "cell_type": "code",
   "execution_count": 2,
   "id": "732c5650",
   "metadata": {},
   "outputs": [],
   "source": [
    "matplotlib.rcParams['mathtext.fontset'] = 'stix'\n",
    "matplotlib.rcParams['font.family'] = 'STIXGeneral'\n",
    "width=0.75\n",
    "color='black'\n",
    "fontsize=28\n",
    "ticksize=22\n",
    "figsize=(10,8)"
   ]
  },
  {
   "cell_type": "markdown",
   "id": "27eb2628",
   "metadata": {},
   "source": [
    "First, lets define $x$ and the boundaries to the domains:"
   ]
  },
  {
   "cell_type": "code",
   "execution_count": 3,
   "id": "49ed3049",
   "metadata": {},
   "outputs": [
    {
     "name": "stdout",
     "output_type": "stream",
     "text": [
      "Domain boundaries: [-2.   0.   1.5  3. ]\n"
     ]
    }
   ],
   "source": [
    "digit = 1.\n",
    "\n",
    "bounds = np.array([-2., 0., 1.5, 3.])\n",
    "print('Domain boundaries:',bounds)"
   ]
  },
  {
   "cell_type": "markdown",
   "id": "9728bd1b",
   "metadata": {},
   "source": [
    "The number of qubits required to store these bounds is:"
   ]
  },
  {
   "cell_type": "code",
   "execution_count": 4,
   "id": "f464ceb3",
   "metadata": {},
   "outputs": [
    {
     "name": "stdout",
     "output_type": "stream",
     "text": [
      "Label qubits: 2\n"
     ]
    }
   ],
   "source": [
    "m = int(np.ceil(np.log2(len(bounds))))\n",
    "print('Label qubits:',m)"
   ]
  },
  {
   "cell_type": "markdown",
   "id": "a840753a",
   "metadata": {},
   "source": [
    "As usual, we determine the minimum number of qubits to store $x$ and the boundaries:"
   ]
  },
  {
   "cell_type": "code",
   "execution_count": 5,
   "id": "305197a7",
   "metadata": {},
   "outputs": [],
   "source": [
    "phase = True\n",
    "\n",
    "nint = qt.get_nint([digit,*bounds])\n",
    "npres = qt.get_npres([digit,*bounds])\n",
    "n = nint + npres\n",
    "\n",
    "if phase:\n",
    "    n+=1\n",
    "    \n",
    "binary_x = qt.my_binary_repr(digit, n, nint=nint, phase=phase)"
   ]
  },
  {
   "cell_type": "markdown",
   "id": "d74c78d9",
   "metadata": {},
   "source": [
    "We need a quantum circuit with an $x$ register, target and ancillary registers similar to the previous notebook, and a label register to store the result:"
   ]
  },
  {
   "cell_type": "code",
   "execution_count": 6,
   "id": "d1dd42d5",
   "metadata": {},
   "outputs": [],
   "source": [
    "qx = QuantumRegister(n, 'x')\n",
    "qtarg = QuantumRegister(1, 'targ')\n",
    "qans = QuantumRegister(n-1, 'a')\n",
    "qlab = QuantumRegister(m, 'l')\n",
    "out_reg = ClassicalRegister(m,'out')\n",
    "circ = QuantumCircuit(qx, qtarg, qans, qlab, out_reg)"
   ]
  },
  {
   "cell_type": "markdown",
   "id": "b91b62ee",
   "metadata": {},
   "source": [
    "First we input $x$:"
   ]
  },
  {
   "cell_type": "code",
   "execution_count": 7,
   "id": "1929bf23",
   "metadata": {},
   "outputs": [],
   "source": [
    "x_gate = qt.input_bits_to_qubits(binary_x, circ, reg=qx, wrap=True)\n",
    "circ.append(x_gate, qx);"
   ]
  },
  {
   "cell_type": "markdown",
   "id": "6e09e43d",
   "metadata": {},
   "source": [
    "Now we can apply the premade function `label_gate` that takes the domain bounds as an arguement through `bounds=bounds`."
   ]
  },
  {
   "cell_type": "code",
   "execution_count": 8,
   "id": "3419d021",
   "metadata": {},
   "outputs": [],
   "source": [
    "circ = qt.label_gate(circ, qx, qtarg, qans, qlab, bounds=bounds, nint=nint, phase=phase)"
   ]
  },
  {
   "cell_type": "markdown",
   "id": "deadc0f7",
   "metadata": {},
   "source": [
    "We will measure the label register to see the result."
   ]
  },
  {
   "cell_type": "code",
   "execution_count": 9,
   "id": "829e2f58",
   "metadata": {},
   "outputs": [],
   "source": [
    "circ.measure(qlab, out_reg);"
   ]
  },
  {
   "cell_type": "markdown",
   "id": "41c3323d",
   "metadata": {},
   "source": [
    "Lets have a look at the circuit:"
   ]
  },
  {
   "cell_type": "code",
   "execution_count": 10,
   "id": "1758aa36",
   "metadata": {},
   "outputs": [
    {
     "data": {
      "image/png": "[encoded data removed]",
      "text/plain": [
       "<PIL.Image.Image image mode=RGB size=1314x366 at 0x7F47F81E5210>"
      ]
     },
     "execution_count": 10,
     "metadata": {},
     "output_type": "execute_result"
    }
   ],
   "source": [
    "circ.draw('latex')"
   ]
  },
  {
   "cell_type": "markdown",
   "id": "3e9d14fb",
   "metadata": {},
   "source": [
    "We can see that `label_gate` is composed of three operations: 'P', 'SET' and QFT. All of these operations we have encountered previously in one form or another. \n",
    "\n",
    "   1. The operation 'P' is the inequality condition operation from the previous notebook. There is a 'P' operation per domain boundary. Each one assesses if $a_l\\le x$ and stores the boolean result in the target register.\n",
    "   2. The 'SET' operation will increment the label register if the target register is in state $|1\\rangle$. This means that 'SET$i$' will increment the label register when the condition $a_i\\le x$ is met.\n",
    "   3. The 'QFT' operation is simply the quantum Fourier transform. This is added as the increment operation of 'SET' is performed using a simple quantum Fourier transform addition. Rather than performing the quantum Fourier transform before and the inverse after every 'SET' operation, all increment operations can be performed in the conjugate basis between a single quantum Fourier transform and inverse pair."
   ]
  },
  {
   "cell_type": "code",
   "execution_count": 11,
   "id": "937ac479",
   "metadata": {},
   "outputs": [],
   "source": [
    "shots=10\n",
    "emulator = Aer.get_backend('qasm_simulator')\n",
    "job = execute(circ, emulator, shots=shots )\n",
    "hist = job.result().get_counts()"
   ]
  },
  {
   "cell_type": "code",
   "execution_count": 12,
   "id": "ef142870",
   "metadata": {},
   "outputs": [
    {
     "name": "stdout",
     "output_type": "stream",
     "text": [
      "Result:\n",
      "0.0 <= 1.0 < 1.5 with probability 1.0\n"
     ]
    }
   ],
   "source": [
    "print('Result:')\n",
    "for label in hist.keys():\n",
    "    if qt.bin_to_dec(label, nint=None, phase=False)==0.:\n",
    "        print(digit,'is outwith the bounds of','['+str(bounds[0])+',',str(bounds[-1])+')','with probability',float(hist[label])/shots)\n",
    "    else:\n",
    "        print(bounds[int(qt.bin_to_dec(label, nint=None, phase=False))-1],'<=',digit,'<',bounds[int(qt.bin_to_dec(label, nint=None, phase=False))],'with probability',float(hist[label])/shots)"
   ]
  },
  {
   "cell_type": "markdown",
   "id": "9cde5e42",
   "metadata": {},
   "source": [
    "This gives us the desired solution. Great, we have our label operation!"
   ]
  },
  {
   "cell_type": "markdown",
   "id": "7328201b",
   "metadata": {},
   "source": [
    "## Loading and unloading data\n",
    "\n",
    "At this point, we are very familiar with the process of loading binary strings into a register with the `input_bits_to_qubits` operation. However, now we wish to load in a different value dependent on another register (in this case, the label register). We shall look into how this is done here.\n",
    "\n",
    "First let us perform the same steps as before:"
   ]
  },
  {
   "cell_type": "code",
   "execution_count": 13,
   "id": "974aae4c",
   "metadata": {},
   "outputs": [
    {
     "name": "stdout",
     "output_type": "stream",
     "text": [
      "Domain boundaries: [-2.   0.   1.5  3. ]\n"
     ]
    }
   ],
   "source": [
    "digit = 1.\n",
    "\n",
    "bounds = np.array([-2., 0., 1.5, 3.])\n",
    "\n",
    "print('Domain boundaries:',bounds)"
   ]
  },
  {
   "cell_type": "code",
   "execution_count": 14,
   "id": "c10925bb",
   "metadata": {},
   "outputs": [
    {
     "name": "stdout",
     "output_type": "stream",
     "text": [
      "Label qubits: 2\n"
     ]
    }
   ],
   "source": [
    "m = int(np.ceil(np.log2(len(bounds))))\n",
    "\n",
    "phase = True\n",
    "\n",
    "nint = qt.get_nint([digit,*bounds])\n",
    "npres = qt.get_npres([digit,*bounds])\n",
    "n = nint + npres\n",
    "\n",
    "if phase:\n",
    "    n+=1\n",
    "    \n",
    "binary_x = qt.my_binary_repr(digit, n, nint=nint, phase=phase)\n",
    "print('Label qubits:',m)"
   ]
  },
  {
   "cell_type": "markdown",
   "id": "cae2b56e",
   "metadata": {},
   "source": [
    "Additionally, we need to determine the number of integer and precision bits requires to store the coefficients $A_1^l$. For simplicity, we shall make the bit strings for $x$ and $A_1^l$ of equal length:"
   ]
  },
  {
   "cell_type": "code",
   "execution_count": 15,
   "id": "76d31b91",
   "metadata": {},
   "outputs": [],
   "source": [
    "A1s = np.array([3., -1., 2.5, -0.5])\n",
    "\n",
    "nintc = qt.get_nint(A1s)\n",
    "npresc = qt.get_npres(A1s)\n",
    "nc = nintc + npresc\n",
    "\n",
    "if phase:\n",
    "    nc+=1\n",
    "    \n",
    "n = np.max([n,nc])"
   ]
  },
  {
   "cell_type": "markdown",
   "id": "546adda9",
   "metadata": {},
   "source": [
    "We will need an $n$ qubit coefficient register to load the values of $A_1^l$, as well as the $x$ and label registers:"
   ]
  },
  {
   "cell_type": "code",
   "execution_count": 16,
   "id": "35e0c6aa",
   "metadata": {},
   "outputs": [],
   "source": [
    "qx = QuantumRegister(n, 'x')\n",
    "qcoff = QuantumRegister(n, 'c')\n",
    "qlab = QuantumRegister(m, 'l')\n",
    "out_reg = ClassicalRegister(n,'out')\n",
    "circ = QuantumCircuit(qx, qcoff, qlab, out_reg)"
   ]
  },
  {
   "cell_type": "markdown",
   "id": "57bce2e3",
   "metadata": {},
   "source": [
    "As we first need to label $x$, we need $n$ ancillary qubits to apply `label_gate`. However these qubits can be from the coefficient register as they are initially unused:"
   ]
  },
  {
   "cell_type": "code",
   "execution_count": 17,
   "id": "75b7cd3d",
   "metadata": {},
   "outputs": [],
   "source": [
    "qtarg = qcoff[0] \n",
    "qans = qcoff[1:]"
   ]
  },
  {
   "cell_type": "markdown",
   "id": "ffdb6b25",
   "metadata": {},
   "source": [
    "Let us input $x$ and apply the `label_gate` again:"
   ]
  },
  {
   "cell_type": "code",
   "execution_count": 18,
   "id": "a9a704eb",
   "metadata": {},
   "outputs": [],
   "source": [
    "x_gate = qt.input_bits_to_qubits(binary_x, circ, reg=qx, wrap=True)\n",
    "circ.append(x_gate, qx);\n",
    "\n",
    "l_gate = qt.label_gate(circ, qx, qtarg, qans, qlab, bounds=bounds, nint=nint, phase=phase, wrap=True)\n",
    "circ.append(l_gate, [*qx, qtarg, *qans, *qlab]);"
   ]
  },
  {
   "cell_type": "markdown",
   "id": "0c9ec892",
   "metadata": {},
   "source": [
    "We can input the domain dependent coefficients using the `cin_gate` taking the coefficients as an input, as well as the number of integer qubits:"
   ]
  },
  {
   "cell_type": "code",
   "execution_count": 19,
   "id": "9b4441d7",
   "metadata": {},
   "outputs": [],
   "source": [
    "circ = qt.cin_gate(circ, qcoff, qlab, A1s, nint=nintc, phase=phase)"
   ]
  },
  {
   "cell_type": "markdown",
   "id": "65dd7cdc",
   "metadata": {},
   "source": [
    "Let us then measure the coefficient register and see what value it produces, given the input $x$ and the domain bounds."
   ]
  },
  {
   "cell_type": "code",
   "execution_count": 20,
   "id": "374fc8ab",
   "metadata": {},
   "outputs": [],
   "source": [
    "circ.measure(qcoff, out_reg);"
   ]
  },
  {
   "cell_type": "code",
   "execution_count": 21,
   "id": "0539649b",
   "metadata": {},
   "outputs": [
    {
     "data": {
      "image/png": "[encoded data removed]",
      "text/plain": [
       "<PIL.Image.Image image mode=RGB size=1091x366 at 0x7F4784707F40>"
      ]
     },
     "execution_count": 21,
     "metadata": {},
     "output_type": "execute_result"
    }
   ],
   "source": [
    "circ.draw('latex')"
   ]
  },
  {
   "cell_type": "markdown",
   "id": "8a6db562",
   "metadata": {},
   "source": [
    "The above circuit displays the components of the `cin_gate` operation. It consists of an `input_bits_to_qubits` operation per domain, controlled on the label register, where $X$ gates permute through all configurations of the label register states.\n",
    "\n",
    "Let us simulate some measurements and see what value the coefficient register returns:"
   ]
  },
  {
   "cell_type": "code",
   "execution_count": 22,
   "id": "9ed75581",
   "metadata": {},
   "outputs": [],
   "source": [
    "shots=10\n",
    "emulator = Aer.get_backend('qasm_simulator')\n",
    "job = execute(circ, emulator, shots=shots )\n",
    "hist = job.result().get_counts()"
   ]
  },
  {
   "cell_type": "code",
   "execution_count": 23,
   "id": "b2340ba5",
   "metadata": {},
   "outputs": [
    {
     "name": "stdout",
     "output_type": "stream",
     "text": [
      "Target:\n",
      "2.5 as 0.0 <= 1.0 < 1.5\n",
      "Result:\n",
      "2.5 -> 0101 with probability 1.0\n"
     ]
    }
   ],
   "source": [
    "print('Target:')\n",
    "ind = np.argwhere((np.array([bounds[-1],*bounds[:-1]])<=digit)*(bounds>digit)).flatten()[0]\n",
    "print(A1s[ind],'as',bounds[ind-1],'<=',digit,'<',bounds[ind])\n",
    "\n",
    "print('Result:')\n",
    "for label in hist.keys():\n",
    "    print(qt.bin_to_dec(label, nint=nintc, phase=phase),'->',label,'with probability',float(hist[label])/shots)"
   ]
  },
  {
   "cell_type": "markdown",
   "id": "0f324df7",
   "metadata": {},
   "source": [
    "We recover the desired coefficient!\n",
    "\n",
    "Unloading is simply the inverse of this operation. Let us have a look at an example of loading and the unloading the coefficients:"
   ]
  },
  {
   "cell_type": "code",
   "execution_count": 24,
   "id": "7db65c57",
   "metadata": {},
   "outputs": [],
   "source": [
    "qx = QuantumRegister(n, 'x')\n",
    "qcoff = QuantumRegister(n, 'c')\n",
    "qlab = QuantumRegister(m, 'l')\n",
    "out_reg = ClassicalRegister(n,'out')\n",
    "circ = QuantumCircuit(qx, qcoff, qlab, out_reg)\n",
    "\n",
    "qtarg = qcoff[0] \n",
    "qans = qcoff[1:]\n",
    "\n",
    "x_gate = qt.input_bits_to_qubits(binary_x, circ, reg=qx, wrap=True)\n",
    "circ.append(x_gate, qx);\n",
    "\n",
    "l_gate = qt.label_gate(circ, qx, qtarg, qans, qlab, bounds=bounds, nint=nint, phase=phase, wrap=True)\n",
    "circ.append(l_gate, [*qx, qtarg, *qans, *qlab]);\n",
    "\n",
    "X_gate = qt.cin_gate(circ, qcoff, qlab, A1s, nint=nintc, phase=phase, wrap=True, label='X')\n",
    "X_gate_inv = qt.cin_gate(circ, qcoff, qlab, A1s, nint=nintc, phase=phase, wrap=True, inverse=True, label='X')\n",
    "circ.append(X_gate, [*qcoff, *qlab]);\n",
    "circ.append(X_gate_inv, [*qcoff, *qlab]);\n",
    "\n",
    "circ.measure(qcoff, out_reg);"
   ]
  },
  {
   "cell_type": "markdown",
   "id": "b5df3424",
   "metadata": {},
   "source": [
    "This looks like this:"
   ]
  },
  {
   "cell_type": "code",
   "execution_count": 25,
   "id": "10034ee2",
   "metadata": {},
   "outputs": [
    {
     "data": {
      "image/png": "[encoded data removed]",
      "text/plain": [
       "<PIL.Image.Image image mode=RGB size=652x531 at 0x7F47F837B880>"
      ]
     },
     "execution_count": 25,
     "metadata": {},
     "output_type": "execute_result"
    }
   ],
   "source": [
    "circ.draw('latex')"
   ]
  },
  {
   "cell_type": "code",
   "execution_count": 26,
   "id": "19079d8a",
   "metadata": {},
   "outputs": [],
   "source": [
    "shots=10\n",
    "emulator = Aer.get_backend('qasm_simulator')\n",
    "job = execute(circ, emulator, shots=shots )\n",
    "hist = job.result().get_counts()"
   ]
  },
  {
   "cell_type": "code",
   "execution_count": 27,
   "id": "83a49a24",
   "metadata": {},
   "outputs": [
    {
     "name": "stdout",
     "output_type": "stream",
     "text": [
      "Result:\n",
      "0.0 -> 0000 with probability 1.0\n"
     ]
    }
   ],
   "source": [
    "print('Result:')\n",
    "for label in hist.keys():\n",
    "    print(qt.bin_to_dec(label, nint=nintc, phase=phase),'->',label,'with probability',float(hist[label])/shots)"
   ]
  },
  {
   "cell_type": "markdown",
   "id": "0b08c3e9",
   "metadata": {},
   "source": [
    "As desired!"
   ]
  },
  {
   "cell_type": "markdown",
   "id": "9cc62dad",
   "metadata": {},
   "source": [
    "## Putting it all together\n",
    "\n",
    "With our knowledge on addition and multiplication, and now that we know how to label, load and unload the coefficients, we have all we need to perform the linear piecewise approximation!\n",
    "\n",
    "Similar to the previous notebook, let us begin by defining the function we wish to model:"
   ]
  },
  {
   "cell_type": "code",
   "execution_count": 28,
   "id": "b043cb22",
   "metadata": {},
   "outputs": [],
   "source": [
    "def f_x(x):\n",
    "    return np.arctan(x)"
   ]
  },
  {
   "cell_type": "markdown",
   "id": "d0364c77",
   "metadata": {},
   "source": [
    "And the range of variables we wish to apply the function over by setting the scale and precison of the $x$ register:"
   ]
  },
  {
   "cell_type": "code",
   "execution_count": 29,
   "id": "8f767243",
   "metadata": {},
   "outputs": [],
   "source": [
    "phase = True\n",
    "\n",
    "nintx = 3\n",
    "nx = 5\n",
    "npresx = nx - nintx\n",
    "if phase:\n",
    "    npresx-=1\n",
    "\n",
    "xmin = -2.**(nintx)\n",
    "xmax = 2.**(nintx) - 2.**(-npresx)\n",
    "\n",
    "xs = np.linspace(xmin,xmax,2**nx)"
   ]
  },
  {
   "cell_type": "markdown",
   "id": "3ebdafa0",
   "metadata": {},
   "source": [
    "We set the desired number of precision bits of the input coefficients:"
   ]
  },
  {
   "cell_type": "code",
   "execution_count": 30,
   "id": "6fcb1c59",
   "metadata": {},
   "outputs": [],
   "source": [
    "npres0, npres1 = 4, 4"
   ]
  },
  {
   "cell_type": "markdown",
   "id": "42b08de5",
   "metadata": {},
   "source": [
    "and both the polynomial degree we wish to approximate to inside the given domains (currently only linear approximations are encoded), as well as the number of bits used to define the number of domains $m$:"
   ]
  },
  {
   "cell_type": "code",
   "execution_count": 31,
   "id": "50ab4578",
   "metadata": {},
   "outputs": [],
   "source": [
    "norder = 1\n",
    "m = 3"
   ]
  },
  {
   "cell_type": "markdown",
   "id": "15ac291e",
   "metadata": {},
   "source": [
    "We return the total number of bits and integer bits for the output and coefficient register, as well as the uniform bounds and corresponding coefficients given the desired precision:"
   ]
  },
  {
   "cell_type": "code",
   "execution_count": 32,
   "id": "f5d303be",
   "metadata": {
    "scrolled": false
   },
   "outputs": [],
   "source": [
    "n, n0, nint, nintcs, coeffs, bounds = qt.optimize_coeffs_qubits(f_x, xs, m, npres0, npres1, norder=norder, phase=phase, label_swap=True)"
   ]
  },
  {
   "cell_type": "code",
   "execution_count": 33,
   "id": "d3e77e64",
   "metadata": {
    "scrolled": true
   },
   "outputs": [
    {
     "name": "stdout",
     "output_type": "stream",
     "text": [
      "Qubits: 5 7 6 3\n",
      "Integer qubits: 3 1 1 1\n",
      "Memory: 32.0\n"
     ]
    }
   ],
   "source": [
    "print('Qubits:', nx, n, n0, m)\n",
    "print('Integer qubits:', nintx, nint, nintcs[0,0], nintcs[0,1])\n",
    "print('Memory:', 16*(2**(n+n0+nx+m))/2**20)"
   ]
  },
  {
   "cell_type": "markdown",
   "id": "c9fd4da7",
   "metadata": {},
   "source": [
    "Let us save the coefficients as another variable but with `label_swap=False` so that they are ordered in an intuative way, and give them to `piecewise_poly`:"
   ]
  },
  {
   "cell_type": "code",
   "execution_count": 37,
   "id": "61eb6b43",
   "metadata": {},
   "outputs": [],
   "source": [
    "_, _, _, _, coeffs_, _ = qt.optimize_coeffs_qubits(f_x, xs, m, npres0, npres1, norder=norder, phase=phase, label_swap=False)\n",
    "ys_rnd = qt.piecewise_poly(xs, coeffs_.T, bounds)"
   ]
  },
  {
   "cell_type": "markdown",
   "id": "1022334e",
   "metadata": {},
   "source": [
    "We now need to initialize our $x$, output, label and coefficient register into a quantum circuit:"
   ]
  },
  {
   "cell_type": "code",
   "execution_count": 39,
   "id": "37659d44",
   "metadata": {},
   "outputs": [],
   "source": [
    "qx = QuantumRegister(nx, 'x')\n",
    "qout = QuantumRegister(n, 'o')\n",
    "qlab = QuantumRegister(m, 'l')\n",
    "qcoff = QuantumRegister(n0, 'c')\n",
    "circ = QuantumCircuit(qx, qout, qlab, qcoff)"
   ]
  },
  {
   "cell_type": "markdown",
   "id": "0a1c17d9",
   "metadata": {},
   "source": [
    "Now we can perform the steps we formed from the start:"
   ]
  },
  {
   "cell_type": "code",
   "execution_count": 40,
   "id": "bd8e4411",
   "metadata": {},
   "outputs": [],
   "source": [
    "# 1. Initialize the x register (let as produce a superposition across all x values)\n",
    "for i in np.arange(nx):\n",
    "    circ.h(qx[i]);\n",
    "\n",
    "# We can use the coefficient register as the ancillary register for the labelling step as before\n",
    "qtarg = qcoff[0] \n",
    "qans = [*qcoff[1:], *qout][:nx-1]\n",
    "\n",
    "# 2. Label the data with the labelling operation\n",
    "l_gate = qt.label_gate(circ, qx, qtarg, qans, qlab, bounds=bounds, nint=nintx, phase=phase, wrap=True)\n",
    "circ.append(l_gate, [*qx, qtarg, *qans, *qlab]);\n",
    "\n",
    "# 3. Load A1 into the coefficient register conditioned on the label register\n",
    "X1_gate = qt.cin_gate(circ, qcoff, qlab, coeffs[0], nint=nintcs[0,0], phase=phase, wrap=True)\n",
    "circ.append(X1_gate, [*qcoff, *qlab]);\n",
    "\n",
    "# 4. Multiply the coefficient and x registers and save the output on the output register\n",
    "mul_gate = qt.QFTMultPhase(circ, qcoff, qx, qout, wrap=True, nint1=nintcs[0,0], nint2=nintx, nint3=nint)\n",
    "circ.append(mul_gate, [*qcoff, *qx, *qout]);\n",
    "\n",
    "# 5. Unload A1 from the coefficient register with the inverse load operation\n",
    "X1_gate_inv = qt.cin_gate(circ, qcoff, qlab, coeffs[0], nint=nintcs[0,0], phase=phase, wrap=True, inverse=True)\n",
    "circ.append(X1_gate_inv, [*qcoff, *qlab]);\n",
    "\n",
    "# 6. Load A0 into the coefficient register conditioned on the label register\n",
    "X0_gate = qt.cin_gate(circ, qcoff, qlab, coeffs[1], nint=nintcs[0,1], phase=phase, wrap=True)\n",
    "circ.append(X0_gate, [*qcoff, *qlab]);\n",
    "\n",
    "# 7. Add the coefficient register to the output register\n",
    "add_gate = qt.QFTAddition(circ, qcoff, qout, nint1=nintcs[0,1], nint2=nint, wrap=True, phase=phase)\n",
    "circ.append(add_gate, [*qcoff, *qout]);\n",
    "\n",
    "# Unload A0 to clear the coefficient register\n",
    "X0_gate_inv = qt.cin_gate(circ, qcoff, qlab, coeffs[1], nint=nintcs[0,1], phase=phase, wrap=True, inverse=True)\n",
    "circ.append(X0_gate_inv, [*qcoff, *qlab]);\n",
    "\n",
    "# Unlabel the label register\n",
    "l_gate_inv = qt.label_gate(circ, qx, qtarg, qans, qlab, bounds=bounds, nint=nintx, phase=phase, wrap=True, inverse=True)\n",
    "circ.append(l_gate_inv, [*qx, qtarg, *qans, *qlab]);"
   ]
  },
  {
   "cell_type": "markdown",
   "id": "916609a7",
   "metadata": {},
   "source": [
    "Now we can retreive the state vector using the simulator:"
   ]
  },
  {
   "cell_type": "code",
   "execution_count": 41,
   "id": "9a6fca35",
   "metadata": {},
   "outputs": [],
   "source": [
    "backend = Aer.get_backend('statevector_simulator')\n",
    "job = execute(circ, backend)\n",
    "result = job.result()\n",
    "state_vector = result.get_statevector()"
   ]
  },
  {
   "cell_type": "markdown",
   "id": "7f067032",
   "metadata": {},
   "source": [
    "To unravel the state vector we reshape it and summate across the empty registers:"
   ]
  },
  {
   "cell_type": "code",
   "execution_count": 42,
   "id": "be23c97e",
   "metadata": {},
   "outputs": [
    {
     "name": "stdout",
     "output_type": "stream",
     "text": [
      "(32, 128)\n"
     ]
    }
   ],
   "source": [
    "state_v = np.asarray(state_vector).reshape((2**n0,2**m,2**n,2**nx)).T\n",
    "state_v = np.sum(state_v, axis=(2,3))"
   ]
  },
  {
   "cell_type": "markdown",
   "id": "650a1734",
   "metadata": {},
   "source": [
    "Now let us take the positions of non-zero amplitudes across the output register dimension of the state vector, and convert the integer positions to the corresponding values of $f(x)$:"
   ]
  },
  {
   "cell_type": "code",
   "execution_count": 43,
   "id": "77cdf8e3",
   "metadata": {},
   "outputs": [],
   "source": [
    "y_unorm = np.argwhere(np.round(np.abs(state_v)**2,15)>0.)[:,1]\n",
    "y_out = []\n",
    "for y in y_unorm:\n",
    "    y_out.append(qt.bin_to_dec(qt.my_binary_repr(y, n=n, nint=None, phase=False), nint=nint, phase=phase))"
   ]
  },
  {
   "cell_type": "markdown",
   "id": "1bbda854",
   "metadata": {},
   "source": [
    "The output must be reordered as the $x$ register is in the twos-complement representation:"
   ]
  },
  {
   "cell_type": "code",
   "execution_count": null,
   "id": "3234e669",
   "metadata": {},
   "outputs": [],
   "source": [
    "xs_comp = []\n",
    "xs_ = np.linspace(-2**(nx-1),2**(nx-1)-1,2**nx)\n",
    "for x in xs_:\n",
    "    binary = qt.my_binary_repr(x, nx, nint=None, phase=True)\n",
    "    xs_comp.append(int(qt.bin_to_dec(binary, nint=None, phase=False)))\n",
    "\n",
    "y_out = np.array(y_out)[xs_comp]"
   ]
  },
  {
   "cell_type": "markdown",
   "id": "0ede666f",
   "metadata": {},
   "source": [
    "Let us see these values and how they compare to the desired function:"
   ]
  },
  {
   "cell_type": "code",
   "execution_count": 45,
   "id": "d45dbec6",
   "metadata": {
    "scrolled": false
   },
   "outputs": [
    {
     "data": {
      "image/png": "[encoded data removed]",
      "text/plain": [
       "<Figure size 1000x800 with 1 Axes>"
      ]
     },
     "metadata": {},
     "output_type": "display_data"
    }
   ],
   "source": [
    "fig = plt.figure(figsize=figsize)\n",
    "ax = fig.gca()\n",
    "\n",
    "for bound in bounds:\n",
    "    ax.axvline(bound, ls=':', color='black')\n",
    "    \n",
    "ax.plot(xs, f_x(xs), color='black');\n",
    "ax.scatter(xs, y_out, color='black', lw=2);\n",
    "ax.plot(xs, ys_rnd, color='black', ls=':', lw=3);\n",
    "ax.set_xlabel(r'$x$', fontsize=fontsize);\n",
    "ax.set_ylabel(r'$f(x)$', fontsize=fontsize);\n",
    "ax.set_xlim(xmin,xmax);\n",
    "ax.tick_params(axis='both', labelsize=ticksize);"
   ]
  },
  {
   "cell_type": "markdown",
   "id": "b5d8185d",
   "metadata": {},
   "source": [
    "Fantastic! Our state vector is now an approximation of $f(x)$ as desired."
   ]
  }
 ],
 "metadata": {
  "kernelspec": {
   "display_name": "Python 3 (ipykernel)",
   "language": "python",
   "name": "python3"
  },
  "language_info": {
   "codemirror_mode": {
    "name": "ipython",
    "version": 3
   },
   "file_extension": ".py",
   "mimetype": "text/x-python",
   "name": "python",
   "nbconvert_exporter": "python",
   "pygments_lexer": "ipython3",
   "version": "3.10.6"
  }
 },
 "nbformat": 4,
 "nbformat_minor": 5
}
