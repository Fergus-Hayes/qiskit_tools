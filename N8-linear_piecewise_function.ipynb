{
 "cells": [
  {
   "cell_type": "markdown",
   "id": "885559dd",
   "metadata": {},
   "source": [
    "# Linear piecewise function\n",
    "\n",
    "\n",
    "In this notebook, we will look into how to evaluate a function using a linear piecewise approximation. This operation is based on the more general [piecewise polynomial function approximation](https://arxiv.org/abs/1805.12445). In this notebook we will have an overlook of what this requires, then we will build the operation using the elements we introduced in previous notebooks. \n",
    "\n",
    "## An overview\n",
    "\n",
    "We look to approximate the function $f(x)$ given $x$ with a linear function within $2^m$ domains such that $f(x)\\approx A_1^lx + A_0^l$ for $x$ within domain $l$.\n",
    "This operation takes the form:\n",
    "\n",
    "$$ |x\\rangle^{\\otimes n}_x|0\\rangle^{\\otimes n_a}_o \\rightarrow |x\\rangle^{\\otimes n}_x|A_1^l x + A_0^l \\rangle^{\\otimes n_a}_o $$,\n",
    "\n",
    "where we have excluded any ancillary registers. Here we will look into how this can be done. Let us break this operation down into several steps:\n",
    "\n",
    "   1. **Initialize** registers $x$ and empty output register $o$, coefficient register $c$ and label register $l$.\n",
    "   \n",
    "      $$ |x\\rangle^{\\otimes n}_x|0\\rangle^{\\otimes n_a}_o|0\\rangle^{\\otimes n_c}_c|0\\rangle^{\\otimes m}_l $$\n",
    "   \n",
    "   2. **Label** register $l$ on register $x$ given the $2^m$ domain bounds.\n",
    "\n",
    "      $$ |x\\rangle^{\\otimes n}_x|0\\rangle^{\\otimes n_a}_o|0\\rangle^{\\otimes n_c}_c|l\\rangle^{\\otimes m}_l $$\n",
    "\n",
    "   3. **Load** $A_1^l$ into register $c$ conditioned on register $l$.\n",
    "\n",
    "      $$ |x\\rangle^{\\otimes n}_x|0\\rangle^{\\otimes n_a}_o|A_1^l\\rangle^{\\otimes n_c}_c|l\\rangle^{\\otimes m}_l $$\n",
    "\n",
    "   4. Perform a **multiplication** operation on registers $x$, $c$ and $o$.\n",
    "\n",
    "      $$ |x\\rangle^{\\otimes n}_x|A_1^l x\\rangle^{\\otimes n_a}_o|A_1^l\\rangle^{\\otimes n_c}_c|l\\rangle^{\\otimes m}_l $$\n",
    "\n",
    "   5. **Unload** $A_1^l$ into register $c$ conditioned on register $l$.\n",
    "   \n",
    "      $$ |x\\rangle^{\\otimes n}_x|A_1^l x\\rangle^{\\otimes n_a}_o|0\\rangle^{\\otimes n_c}_c|l\\rangle^{\\otimes m}_l $$\n",
    "   \n",
    "   6. **Load** $A_0^l$ into register $c$ conditioned on register $l$.\n",
    "   \n",
    "      $$ |x\\rangle^{\\otimes n}_x|A_1^l x\\rangle^{\\otimes n_a}_o|A_0^l\\rangle^{\\otimes n_c}_c|l\\rangle^{\\otimes m}_l $$\n",
    "   \n",
    "   7. Perform an **addition** operation on register $c$ and $o$.\n",
    "   \n",
    "      $$ |x\\rangle^{\\otimes n}_x|A_1^l x+A_0^l\\rangle^{\\otimes n_a}_o|A_0^l\\rangle^{\\otimes n_c}_c|l\\rangle^{\\otimes m}_l $$\n",
    "   \n",
    "We can see that we need to perform a sequence of operations: label, load, multiplication and addition. These operations are depicted below, where the $X_{0,1}$ operation performs the loading of $A_0^{l}$ or $A_1^{l}$ respectively, and the inverse operation will unload the coefficient.\n",
    "\n",
    "<img src=\"LPF.png\">\n",
    "\n",
    "We have already introduced loading data, multiplication and addition in previous notebooks, so first we will look into introducing the label operation.\n",
    "\n",
    "## Label gate"
   ]
  },
  {
   "cell_type": "code",
   "execution_count": null,
   "id": "49ed3049",
   "metadata": {},
   "outputs": [],
   "source": []
  }
 ],
 "metadata": {
  "kernelspec": {
   "display_name": "Python 3 (ipykernel)",
   "language": "python",
   "name": "python3"
  },
  "language_info": {
   "codemirror_mode": {
    "name": "ipython",
    "version": 3
   },
   "file_extension": ".py",
   "mimetype": "text/x-python",
   "name": "python",
   "nbconvert_exporter": "python",
   "pygments_lexer": "ipython3",
   "version": "3.10.6"
  }
 },
 "nbformat": 4,
 "nbformat_minor": 5
}
