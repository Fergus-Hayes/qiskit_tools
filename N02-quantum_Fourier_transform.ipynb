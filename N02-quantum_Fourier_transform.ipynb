{
 "cells": [
  {
   "cell_type": "markdown",
   "id": "a6474bb1",
   "metadata": {},
   "source": [
    "# Quantum Fourier transform\n",
    "\n",
    "In this section we will look at the implementation of the [quantum Fourier transform](https://learn.qiskit.org/course/ch-algorithms/quantum-fourier-transform), as it is a cornerstone to a vast number of quantum algorithms.\n",
    "\n",
    "The quantum Fourier transform is defined by the operation:\n",
    "\n",
    "$$ |x\\rangle \\rightarrow \\frac{1}{2^{n}}\\sum^{2^{n}-1}_{j=0}\\exp(i2\\pi jx)|j\\rangle $$\n",
    "\n",
    "The corresponding matrix to perform this operation is defined in the function below:"
   ]
  },
  {
   "cell_type": "code",
   "execution_count": 1,
   "id": "89f002d7",
   "metadata": {},
   "outputs": [],
   "source": [
    "def QFT(N):\n",
    "    '''\n",
    "    Constructing the fourier transform of size NxN.\n",
    "    '''\n",
    "    return np.array([[(np.exp(2.*i*j*1j*np.pi/N))\n",
    "                   for j in np.arange(N)]\n",
    "                    for i in np.arange(N)])*1./np.sqrt(N)"
   ]
  },
  {
   "cell_type": "code",
   "execution_count": 2,
   "id": "a95ce35b",
   "metadata": {},
   "outputs": [],
   "source": [
    "from qiskit import QuantumCircuit, QuantumRegister, ClassicalRegister, execute, Aer, IBMQ\n",
    "import qiskit_tools as qt\n",
    "import numpy as np\n",
    "import matplotlib.pyplot as plt\n",
    "import matplotlib"
   ]
  },
  {
   "cell_type": "markdown",
   "id": "9ebf22bf",
   "metadata": {},
   "source": [
    "Let us perform this action on 5 qubits:"
   ]
  },
  {
   "cell_type": "code",
   "execution_count": 3,
   "id": "6016a121",
   "metadata": {},
   "outputs": [],
   "source": [
    "n = 5"
   ]
  },
  {
   "cell_type": "code",
   "execution_count": 4,
   "id": "15a56a01",
   "metadata": {},
   "outputs": [],
   "source": [
    "xreg = QuantumRegister(n, 'x')\n",
    "circ = QuantumCircuit(xreg)"
   ]
  },
  {
   "cell_type": "markdown",
   "id": "1e0e7b77",
   "metadata": {},
   "source": [
    "A quantum Fourier transform is applied across a given register using the command:"
   ]
  },
  {
   "cell_type": "code",
   "execution_count": 5,
   "id": "a27a92f5",
   "metadata": {},
   "outputs": [],
   "source": [
    "circ = qt.QFT(circ, xreg)"
   ]
  },
  {
   "cell_type": "code",
   "execution_count": 6,
   "id": "6c39554f",
   "metadata": {
    "scrolled": false
   },
   "outputs": [
    {
     "data": {
      "image/png": "[encoded data removed]",
      "text/plain": [
       "<PIL.Image.Image image mode=RGB size=1230x151 at 0x7F8E3F507BB0>"
      ]
     },
     "execution_count": 6,
     "metadata": {},
     "output_type": "execute_result"
    }
   ],
   "source": [
    "circ.draw(output=\"latex\")"
   ]
  },
  {
   "cell_type": "markdown",
   "id": "3b6ebb41",
   "metadata": {},
   "source": [
    "If we wish to retreive the matrix corresponding to the circuit defined above, we can run:"
   ]
  },
  {
   "cell_type": "code",
   "execution_count": 7,
   "id": "858a3ce5",
   "metadata": {},
   "outputs": [],
   "source": [
    "backend = Aer.get_backend('unitary_simulator')\n",
    "job = execute(circ, backend)\n",
    "result = job.result()\n",
    "unit_mat = np.array(result.get_unitary(circ, decimals=8))"
   ]
  },
  {
   "cell_type": "markdown",
   "id": "01fdea1b",
   "metadata": {},
   "source": [
    "Let's compare this to the result defined previously in the `QFT` function and find the mean-squared error between the two:"
   ]
  },
  {
   "cell_type": "code",
   "execution_count": 8,
   "id": "6a9fd104",
   "metadata": {},
   "outputs": [
    {
     "name": "stdout",
     "output_type": "stream",
     "text": [
      "9.614736905519685e-15\n"
     ]
    }
   ],
   "source": [
    "print(np.sum(np.abs(unit_mat-QFT(2**n))**2))"
   ]
  },
  {
   "cell_type": "markdown",
   "id": "b1276c59",
   "metadata": {},
   "source": [
    "We see that they are pretty similar!"
   ]
  }
 ],
 "metadata": {
  "kernelspec": {
   "display_name": "Python 3 (ipykernel)",
   "language": "python",
   "name": "python3"
  },
  "language_info": {
   "codemirror_mode": {
    "name": "ipython",
    "version": 3
   },
   "file_extension": ".py",
   "mimetype": "text/x-python",
   "name": "python",
   "nbconvert_exporter": "python",
   "pygments_lexer": "ipython3",
   "version": "3.10.6"
  }
 },
 "nbformat": 4,
 "nbformat_minor": 5
}
