{
 "cells": [
  {
   "cell_type": "markdown",
   "id": "b5fe5046",
   "metadata": {},
   "source": [
    "# Inequality conditions\n",
    "\n",
    "To get to this stage of the notebooks, you will have encountered examples of how boolean logic can be implemented in a quantum circuit through controlled operations and NOT gates, and likely have a good grasp of how to perform AND, NAND, OR and XOR operations on a quantum computer (if not, this would be a good point to familiarize yourself with these operations as an exercise). \n",
    "\n",
    "Here we will look into how to condition an operation $\\hat{U}$ based upon inequalities given some input $x$ and an inequality $x\\ge a$. "
   ]
  },
  {
   "cell_type": "code",
   "execution_count": 1,
   "id": "ffbf0e28",
   "metadata": {},
   "outputs": [],
   "source": [
    "from qiskit import QuantumCircuit, QuantumRegister, ClassicalRegister, execute, Aer, IBMQ\n",
    "import qiskit_tools as qt\n",
    "import numpy as np\n",
    "import matplotlib.pyplot as plt\n",
    "import matplotlib"
   ]
  },
  {
   "cell_type": "code",
   "execution_count": 2,
   "id": "28ecfeba",
   "metadata": {},
   "outputs": [],
   "source": [
    "digit = 2\n",
    "a = 1"
   ]
  },
  {
   "cell_type": "code",
   "execution_count": 3,
   "id": "00751401",
   "metadata": {},
   "outputs": [
    {
     "name": "stdout",
     "output_type": "stream",
     "text": [
      "2 2 0\n"
     ]
    }
   ],
   "source": [
    "phase = False\n",
    "\n",
    "nint = qt.get_nint([digit,a])\n",
    "npres = qt.get_npres([digit,a])\n",
    "n = nint + npres\n",
    "\n",
    "if phase:\n",
    "    n+=1\n",
    "\n",
    "print(n, nint, npres)"
   ]
  },
  {
   "cell_type": "code",
   "execution_count": 4,
   "id": "1dd35ebe",
   "metadata": {},
   "outputs": [],
   "source": [
    "binary_x = qt.my_binary_repr(digit, n, nint=nint, phase=phase)\n",
    "binary_a = qt.my_binary_repr(a, n, nint=nint, phase=phase)"
   ]
  },
  {
   "cell_type": "code",
   "execution_count": 5,
   "id": "53c92836",
   "metadata": {},
   "outputs": [
    {
     "name": "stdout",
     "output_type": "stream",
     "text": [
      "10 01\n"
     ]
    }
   ],
   "source": [
    "print(binary_x,binary_a)"
   ]
  },
  {
   "cell_type": "code",
   "execution_count": 6,
   "id": "41ad9354",
   "metadata": {},
   "outputs": [
    {
     "name": "stdout",
     "output_type": "stream",
     "text": [
      "It is True that 2 >= 1.\n"
     ]
    }
   ],
   "source": [
    "print('It is',digit>=a,'that',str(digit)+' >= '+str(a)+'.')"
   ]
  },
  {
   "cell_type": "code",
   "execution_count": 7,
   "id": "40016b11",
   "metadata": {},
   "outputs": [],
   "source": [
    "qx = QuantumRegister(n, 'x')\n",
    "qtarg = QuantumRegister(1, 'targ')\n",
    "qans = QuantumRegister(n-1, 'anc')\n",
    "out_reg = ClassicalRegister(1,'out_reg')\n",
    "circ = QuantumCircuit(qx, qtarg, qans, out_reg)"
   ]
  },
  {
   "cell_type": "code",
   "execution_count": 8,
   "id": "a709361d",
   "metadata": {},
   "outputs": [],
   "source": [
    "x_gate = qt.input_bits_to_qubits(binary_x, circ, reg=qx, wrap=True)\n",
    "circ.append(x_gate, qx);"
   ]
  },
  {
   "cell_type": "code",
   "execution_count": 9,
   "id": "5f062ae9",
   "metadata": {},
   "outputs": [],
   "source": [
    "intcomp_gate = qt.integer_compare(circ, qx, qtarg, qans, a, geq=True, wrap=True)\n",
    "circ.append(intcomp_gate, [*qx, *qtarg, *qans]);"
   ]
  },
  {
   "cell_type": "code",
   "execution_count": 10,
   "id": "3df554ca",
   "metadata": {},
   "outputs": [],
   "source": [
    "circ.measure(qtarg, out_reg);"
   ]
  },
  {
   "cell_type": "code",
   "execution_count": 11,
   "id": "5e631fa6",
   "metadata": {},
   "outputs": [
    {
     "data": {
      "image/png": "[encoded data removed]",
      "text/plain": [
       "<PIL.Image.Image image mode=RGB size=334x232 at 0x7F1DE9ADF3A0>"
      ]
     },
     "execution_count": 11,
     "metadata": {},
     "output_type": "execute_result"
    }
   ],
   "source": [
    "circ.draw('latex')"
   ]
  },
  {
   "cell_type": "code",
   "execution_count": 12,
   "id": "f68c5d8a",
   "metadata": {},
   "outputs": [
    {
     "data": {
      "image/png": "[encoded data removed]",
      "text/plain": [
       "<PIL.Image.Image image mode=RGB size=371x156 at 0x7F1DE9BF85B0>"
      ]
     },
     "execution_count": 12,
     "metadata": {},
     "output_type": "execute_result"
    }
   ],
   "source": [
    "circ.decompose(reps=1).draw('latex')"
   ]
  },
  {
   "cell_type": "code",
   "execution_count": 13,
   "id": "5e70924b",
   "metadata": {},
   "outputs": [],
   "source": [
    "shots=10\n",
    "emulator = Aer.get_backend('qasm_simulator')\n",
    "job = execute(circ, emulator, shots=shots )\n",
    "hist = job.result().get_counts()"
   ]
  },
  {
   "cell_type": "code",
   "execution_count": 14,
   "id": "9fe6ea98",
   "metadata": {},
   "outputs": [
    {
     "name": "stdout",
     "output_type": "stream",
     "text": [
      "Target:\n",
      "2 >= 1 = True\n",
      "Result:\n",
      "2 >= 1 = True -> 1 with probability 1.0\n"
     ]
    }
   ],
   "source": [
    "print('Target:')\n",
    "print(digit,'>=',a,'=',digit>=a)\n",
    "\n",
    "print('Result:')\n",
    "for label in hist.keys():\n",
    "    print(digit,'>=',a,'=',bool(qt.bin_to_dec(label, nint=nint, phase=False)),'->',label,'with probability',float(hist[label])/shots)"
   ]
  },
  {
   "cell_type": "code",
   "execution_count": 15,
   "id": "8a06395c",
   "metadata": {},
   "outputs": [],
   "source": [
    "digit = 1.5\n",
    "a = 2.25"
   ]
  },
  {
   "cell_type": "code",
   "execution_count": 16,
   "id": "a56904b4",
   "metadata": {},
   "outputs": [
    {
     "name": "stdout",
     "output_type": "stream",
     "text": [
      "4 2 2\n"
     ]
    }
   ],
   "source": [
    "phase = False\n",
    "\n",
    "nint = qt.get_nint([digit,a])\n",
    "npres = qt.get_npres([digit,a])\n",
    "n = nint + npres\n",
    "\n",
    "if phase:\n",
    "    n+=1\n",
    "\n",
    "print(n, nint, npres)"
   ]
  },
  {
   "cell_type": "code",
   "execution_count": 17,
   "id": "f224a1ea",
   "metadata": {},
   "outputs": [],
   "source": [
    "binary_x = qt.my_binary_repr(digit, n, nint=nint, phase=phase)\n",
    "binary_a = qt.my_binary_repr(a, n, nint=nint, phase=phase)"
   ]
  },
  {
   "cell_type": "code",
   "execution_count": 18,
   "id": "b15df773",
   "metadata": {},
   "outputs": [],
   "source": [
    "int_x = qt.bin_to_dec(binary_x, nint=None, phase=False)\n",
    "int_a = qt.bin_to_dec(binary_a, nint=None, phase=False)"
   ]
  },
  {
   "cell_type": "code",
   "execution_count": 19,
   "id": "40bd1d06",
   "metadata": {},
   "outputs": [
    {
     "name": "stdout",
     "output_type": "stream",
     "text": [
      "1.5 -> 0110 -> 6 , 2.25 -> 1001 -> 9\n"
     ]
    }
   ],
   "source": [
    "print(digit,'->',binary_x,'->',int(int_x),',',a,'->',binary_a,'->',int(int_a))"
   ]
  },
  {
   "cell_type": "code",
   "execution_count": 20,
   "id": "4482f616",
   "metadata": {},
   "outputs": [
    {
     "name": "stdout",
     "output_type": "stream",
     "text": [
      "It is False that 1.5 >= 2.25, and it is False that 6.0 >= 9.0\n"
     ]
    }
   ],
   "source": [
    "print('It is',digit>=a,'that',str(digit)+' >= '+str(a)+', and it is',int_x>=int_a,'that',str(int_x)+' >= '+str(int_a))"
   ]
  },
  {
   "cell_type": "code",
   "execution_count": 21,
   "id": "edad889c",
   "metadata": {},
   "outputs": [],
   "source": [
    "qx = QuantumRegister(n, 'x')\n",
    "qtarg = QuantumRegister(1, 'targ')\n",
    "qans = QuantumRegister(n-1, 'anc')\n",
    "out_reg = ClassicalRegister(1,'out_reg')\n",
    "circ = QuantumCircuit(qx, qtarg, qans, out_reg)"
   ]
  },
  {
   "cell_type": "code",
   "execution_count": 22,
   "id": "02b5636a",
   "metadata": {},
   "outputs": [],
   "source": [
    "x_gate = qt.input_bits_to_qubits(binary_x, circ, reg=qx, wrap=True)\n",
    "circ.append(x_gate, qx);"
   ]
  },
  {
   "cell_type": "code",
   "execution_count": 23,
   "id": "6d6ab164",
   "metadata": {},
   "outputs": [],
   "source": [
    "intcomp_gate = qt.integer_compare(circ, qx, qtarg, qans, int_a, geq=True, wrap=True)\n",
    "circ.append(intcomp_gate, [*qx, *qtarg, *qans]);"
   ]
  },
  {
   "cell_type": "code",
   "execution_count": 24,
   "id": "716f3e72",
   "metadata": {},
   "outputs": [],
   "source": [
    "circ.measure(qtarg, out_reg);"
   ]
  },
  {
   "cell_type": "code",
   "execution_count": 25,
   "id": "05e8f31c",
   "metadata": {},
   "outputs": [
    {
     "data": {
      "image/png": "[encoded data removed]",
      "text/plain": [
       "<PIL.Image.Image image mode=RGB size=334x432 at 0x7F1E06BDE680>"
      ]
     },
     "execution_count": 25,
     "metadata": {},
     "output_type": "execute_result"
    }
   ],
   "source": [
    "circ.draw('latex')"
   ]
  },
  {
   "cell_type": "code",
   "execution_count": 26,
   "id": "77614de1",
   "metadata": {},
   "outputs": [],
   "source": [
    "shots=10\n",
    "emulator = Aer.get_backend('qasm_simulator')\n",
    "job = execute(circ, emulator, shots=shots )\n",
    "hist = job.result().get_counts()"
   ]
  },
  {
   "cell_type": "code",
   "execution_count": 27,
   "id": "065eee84",
   "metadata": {},
   "outputs": [
    {
     "name": "stdout",
     "output_type": "stream",
     "text": [
      "Target:\n",
      "1.5 >= 2.25 = False\n",
      "Result:\n",
      "1.5 >= 2.25 = False -> 0 with probability 1.0\n"
     ]
    }
   ],
   "source": [
    "print('Target:')\n",
    "print(digit,'>=',a,'=',digit>=a)\n",
    "\n",
    "print('Result:')\n",
    "for label in hist.keys():\n",
    "    print(digit,'>=',a,'=',bool(qt.bin_to_dec(label, nint=nint, phase=False)),'->',label,'with probability',float(hist[label])/shots)"
   ]
  },
  {
   "cell_type": "code",
   "execution_count": 28,
   "id": "aec341a1",
   "metadata": {},
   "outputs": [],
   "source": [
    "digit = -1.5\n",
    "a = 2.25"
   ]
  },
  {
   "cell_type": "code",
   "execution_count": 29,
   "id": "ee7e7fcd",
   "metadata": {},
   "outputs": [
    {
     "name": "stdout",
     "output_type": "stream",
     "text": [
      "5 2 2\n"
     ]
    }
   ],
   "source": [
    "phase = True\n",
    "\n",
    "nint = qt.get_nint([digit,a])\n",
    "npres = qt.get_npres([digit,a])\n",
    "n = nint + npres\n",
    "\n",
    "if phase:\n",
    "    n+=1\n",
    "\n",
    "print(n, nint, npres)"
   ]
  },
  {
   "cell_type": "code",
   "execution_count": 30,
   "id": "0e181f5f",
   "metadata": {},
   "outputs": [],
   "source": [
    "binary_x = qt.my_binary_repr(digit, n, nint=nint, phase=phase)\n",
    "binary_a = qt.my_binary_repr(a, n, nint=nint, phase=phase)"
   ]
  },
  {
   "cell_type": "code",
   "execution_count": 31,
   "id": "0231cb02",
   "metadata": {},
   "outputs": [],
   "source": [
    "binary_x_ = qt.my_binary_repr(digit, n, nint=nint, phase=phase)\n",
    "\n",
    "if binary_x[0]=='0':\n",
    "    binary_x_ = '1'+binary_x[1:]\n",
    "elif binary_x[0]=='1':\n",
    "    binary_x_ = '0'+binary_x[1:]"
   ]
  },
  {
   "cell_type": "code",
   "execution_count": 32,
   "id": "006b5f6a",
   "metadata": {},
   "outputs": [],
   "source": [
    "binary_a_ = qt.my_binary_repr(a, n, nint=nint, phase=phase)\n",
    "\n",
    "if binary_a[0]=='0':\n",
    "    binary_a_ = '1'+binary_a[1:]\n",
    "elif binary_a[0]=='1':\n",
    "    binary_a_ = '0'+binary_a[1:]"
   ]
  },
  {
   "cell_type": "code",
   "execution_count": 33,
   "id": "3d611d77",
   "metadata": {},
   "outputs": [],
   "source": [
    "int_x = qt.bin_to_dec(binary_x_, nint=None, phase=False)\n",
    "int_a = qt.bin_to_dec(binary_a_, nint=None, phase=False)"
   ]
  },
  {
   "cell_type": "code",
   "execution_count": 34,
   "id": "c00b8f27",
   "metadata": {},
   "outputs": [
    {
     "name": "stdout",
     "output_type": "stream",
     "text": [
      "-1.5 -> 11010 -> 01010 -> 10 , 2.25 -> 01001 -> 11001 -> 25\n"
     ]
    }
   ],
   "source": [
    "print(digit,'->',binary_x,'->',binary_x_,'->',int(int_x),',',a,'->',binary_a,'->',binary_a_,'->',int(int_a))"
   ]
  },
  {
   "cell_type": "code",
   "execution_count": 35,
   "id": "407407b3",
   "metadata": {},
   "outputs": [
    {
     "name": "stdout",
     "output_type": "stream",
     "text": [
      "It is False that -1.5 >= 2.25, and it is False that 10.0 >= 25.0\n"
     ]
    }
   ],
   "source": [
    "print('It is',digit>=a,'that',str(digit)+' >= '+str(a)+', and it is',int_x>=int_a,'that',str(int_x)+' >= '+str(int_a))"
   ]
  },
  {
   "cell_type": "code",
   "execution_count": 36,
   "id": "eeaed019",
   "metadata": {},
   "outputs": [],
   "source": [
    "qx = QuantumRegister(n, 'x')\n",
    "qtarg = QuantumRegister(1, 'targ')\n",
    "qans = QuantumRegister(n-1, 'anc')\n",
    "out_reg = ClassicalRegister(1,'out_reg')\n",
    "circ = QuantumCircuit(qx, qtarg, qans, out_reg)"
   ]
  },
  {
   "cell_type": "code",
   "execution_count": 37,
   "id": "a76ce419",
   "metadata": {},
   "outputs": [],
   "source": [
    "x_gate = qt.input_bits_to_qubits(binary_x, circ, reg=qx, wrap=True)\n",
    "circ.append(x_gate, qx);"
   ]
  },
  {
   "cell_type": "code",
   "execution_count": 38,
   "id": "6d601ef1",
   "metadata": {},
   "outputs": [],
   "source": [
    "circ.x(qx[-1]);\n",
    "intcomp_gate = qt.integer_compare(circ, qx, qtarg, qans, int_a, geq=True, wrap=True)\n",
    "circ.append(intcomp_gate, [*qx, *qtarg, *qans]);\n",
    "circ.x(qx[-1]);"
   ]
  },
  {
   "cell_type": "code",
   "execution_count": 39,
   "id": "34d833b0",
   "metadata": {},
   "outputs": [],
   "source": [
    "circ.measure(qtarg, out_reg);"
   ]
  },
  {
   "cell_type": "code",
   "execution_count": 40,
   "id": "38452c9f",
   "metadata": {},
   "outputs": [
    {
     "data": {
      "image/png": "[encoded data removed]",
      "text/plain": [
       "<PIL.Image.Image image mode=RGB size=383x366 at 0x7F1E06A51840>"
      ]
     },
     "execution_count": 40,
     "metadata": {},
     "output_type": "execute_result"
    }
   ],
   "source": [
    "circ.draw('latex')"
   ]
  },
  {
   "cell_type": "code",
   "execution_count": 41,
   "id": "02ec9265",
   "metadata": {},
   "outputs": [],
   "source": [
    "shots=10\n",
    "emulator = Aer.get_backend('qasm_simulator')\n",
    "job = execute(circ, emulator, shots=shots )\n",
    "hist = job.result().get_counts()"
   ]
  },
  {
   "cell_type": "code",
   "execution_count": 42,
   "id": "c22c8fdf",
   "metadata": {},
   "outputs": [
    {
     "name": "stdout",
     "output_type": "stream",
     "text": [
      "Target:\n",
      "-1.5 >= 2.25 = False\n",
      "Result:\n",
      "-1.5 >= 2.25 = False -> 0 with probability 1.0\n"
     ]
    }
   ],
   "source": [
    "print('Target:')\n",
    "print(digit,'>=',a,'=',digit>=a)\n",
    "\n",
    "print('Result:')\n",
    "for label in hist.keys():\n",
    "    print(digit,'>=',a,'=',bool(qt.bin_to_dec(label, nint=nint, phase=False)),'->',label,'with probability',float(hist[label])/shots)"
   ]
  },
  {
   "cell_type": "code",
   "execution_count": 43,
   "id": "cb692f0c",
   "metadata": {},
   "outputs": [],
   "source": [
    "digit = 1.5\n",
    "a = -2.25\n",
    "\n",
    "phase = True\n",
    "\n",
    "nint = qt.get_nint([digit,a])\n",
    "npres = qt.get_npres([digit,a])\n",
    "n = nint + npres\n",
    "\n",
    "if phase:\n",
    "    n+=1\n",
    "    \n",
    "binary_x = qt.my_binary_repr(digit, n, nint=nint, phase=phase)\n",
    "binary_a = qt.my_binary_repr(a, n, nint=nint, phase=phase)\n",
    "\n",
    "binary_x_ = qt.my_binary_repr(digit, n, nint=nint, phase=phase)\n",
    "\n",
    "if binary_x[0]=='0':\n",
    "    binary_x_ = '1'+binary_x[1:]\n",
    "elif binary_x[0]=='1':\n",
    "    binary_x_ = '0'+binary_x[1:]\n",
    "    \n",
    "binary_a_ = qt.my_binary_repr(a, n, nint=nint, phase=phase)\n",
    "\n",
    "if binary_a[0]=='0':\n",
    "    binary_a_ = '1'+binary_a[1:]\n",
    "elif binary_a[0]=='1':\n",
    "    binary_a_ = '0'+binary_a[1:]\n",
    "    \n",
    "int_x = qt.bin_to_dec(binary_x_, nint=None, phase=False)\n",
    "int_a = qt.bin_to_dec(binary_a_, nint=None, phase=False)"
   ]
  },
  {
   "cell_type": "code",
   "execution_count": 44,
   "id": "9e01bd8e",
   "metadata": {},
   "outputs": [],
   "source": [
    "qx = QuantumRegister(n, 'x')\n",
    "qtarg = QuantumRegister(1, 'targ')\n",
    "qans = QuantumRegister(n-1, 'anc')\n",
    "out_reg = ClassicalRegister(1,'out_reg')\n",
    "circ = QuantumCircuit(qx, qtarg, qans, out_reg)\n",
    "\n",
    "x_gate = qt.input_bits_to_qubits(binary_x, circ, reg=qx, wrap=True)\n",
    "circ.append(x_gate, qx);\n",
    "\n",
    "circ.x(qx[-1]);\n",
    "intcomp_gate = qt.integer_compare(circ, qx, qtarg, qans, int_a, geq=False, wrap=True)\n",
    "circ.append(intcomp_gate, [*qx, *qtarg, *qans]);\n",
    "circ.x(qx[-1]);\n",
    "\n",
    "circ.measure(qtarg, out_reg);"
   ]
  },
  {
   "cell_type": "code",
   "execution_count": 45,
   "id": "ecd1f0c2",
   "metadata": {},
   "outputs": [],
   "source": [
    "shots=10\n",
    "emulator = Aer.get_backend('qasm_simulator')\n",
    "job = execute(circ, emulator, shots=shots )\n",
    "hist = job.result().get_counts()"
   ]
  },
  {
   "cell_type": "code",
   "execution_count": 46,
   "id": "b66410fe",
   "metadata": {},
   "outputs": [
    {
     "name": "stdout",
     "output_type": "stream",
     "text": [
      "Target:\n",
      "1.5 <= -2.25 = False\n",
      "Result:\n",
      "1.5 <= -2.25 = False -> 0 with probability 1.0\n"
     ]
    }
   ],
   "source": [
    "print('Target:')\n",
    "print(digit,'<=',a,'=',digit<=a)\n",
    "\n",
    "print('Result:')\n",
    "for label in hist.keys():\n",
    "    print(digit,'<=',a,'=',bool(qt.bin_to_dec(label, nint=nint, phase=False)),'->',label,'with probability',float(hist[label])/shots)"
   ]
  }
 ],
 "metadata": {
  "kernelspec": {
   "display_name": "Python 3 (ipykernel)",
   "language": "python",
   "name": "python3"
  },
  "language_info": {
   "codemirror_mode": {
    "name": "ipython",
    "version": 3
   },
   "file_extension": ".py",
   "mimetype": "text/x-python",
   "name": "python",
   "nbconvert_exporter": "python",
   "pygments_lexer": "ipython3",
   "version": "3.10.6"
  }
 },
 "nbformat": 4,
 "nbformat_minor": 5
}
