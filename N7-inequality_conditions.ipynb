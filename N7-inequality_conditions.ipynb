{
 "cells": [
  {
   "cell_type": "markdown",
   "id": "b5fe5046",
   "metadata": {},
   "source": [
    "# Inequality conditions\n",
    "\n",
    "To get to this stage of the notebooks, you will have encountered examples of how boolean logic can be implemented in a quantum circuit through controlled operations and NOT gates, and likely have a good grasp of how to perform AND, NAND, OR and XOR operations on a quantum computer (if not, this would be a good point to familiarize yourself with these operations as an exercise). \n",
    "\n",
    "Here we will look into how to condition an operation $\\hat{U}$ based upon inequalities given some input $x$ and inequality $x\\le a$ or $x\\ge a$. "
   ]
  },
  {
   "cell_type": "code",
   "execution_count": 1,
   "id": "ffbf0e28",
   "metadata": {},
   "outputs": [],
   "source": [
    "from qiskit import QuantumCircuit, QuantumRegister, ClassicalRegister, execute, Aer, IBMQ\n",
    "import qiskit_tools as qt\n",
    "import numpy as np\n",
    "import matplotlib.pyplot as plt\n",
    "import matplotlib"
   ]
  },
  {
   "cell_type": "markdown",
   "id": "0c8ed8cd",
   "metadata": {},
   "source": [
    "Let us define our $x$ and $a$. First, let's consider integer values:"
   ]
  },
  {
   "cell_type": "code",
   "execution_count": 2,
   "id": "28ecfeba",
   "metadata": {},
   "outputs": [],
   "source": [
    "digit = 2\n",
    "a = 1"
   ]
  },
  {
   "cell_type": "markdown",
   "id": "6b8fb7d9",
   "metadata": {},
   "source": [
    "and consider the minimum number of quibits:"
   ]
  },
  {
   "cell_type": "code",
   "execution_count": 3,
   "id": "00751401",
   "metadata": {},
   "outputs": [
    {
     "name": "stdout",
     "output_type": "stream",
     "text": [
      "2 2 0\n"
     ]
    }
   ],
   "source": [
    "phase = False\n",
    "\n",
    "nint = qt.get_nint([digit,a])\n",
    "npres = qt.get_npres([digit,a])\n",
    "n = nint + npres\n",
    "\n",
    "if phase:\n",
    "    n+=1\n",
    "\n",
    "print(n, nint, npres)"
   ]
  },
  {
   "cell_type": "code",
   "execution_count": 4,
   "id": "1dd35ebe",
   "metadata": {},
   "outputs": [],
   "source": [
    "binary_x = qt.my_binary_repr(digit, n, nint=nint, phase=phase)\n",
    "binary_a = qt.my_binary_repr(a, n, nint=nint, phase=phase)"
   ]
  },
  {
   "cell_type": "markdown",
   "id": "707a48ca",
   "metadata": {},
   "source": [
    "These values are stored in binary as:"
   ]
  },
  {
   "cell_type": "code",
   "execution_count": 5,
   "id": "53c92836",
   "metadata": {},
   "outputs": [
    {
     "name": "stdout",
     "output_type": "stream",
     "text": [
      "10 01\n"
     ]
    }
   ],
   "source": [
    "print(binary_x,binary_a)"
   ]
  },
  {
   "cell_type": "markdown",
   "id": "eeaff5ac",
   "metadata": {},
   "source": [
    "First, we are considering the condition $x\\ge a$:"
   ]
  },
  {
   "cell_type": "code",
   "execution_count": 6,
   "id": "41ad9354",
   "metadata": {},
   "outputs": [
    {
     "name": "stdout",
     "output_type": "stream",
     "text": [
      "It is True that 2 >= 1.\n"
     ]
    }
   ],
   "source": [
    "print('It is',digit>=a,'that',str(digit)+' >= '+str(a)+'.')"
   ]
  },
  {
   "cell_type": "markdown",
   "id": "0deb4ee1",
   "metadata": {},
   "source": [
    "We begin by initialising an $x$ register of $n$ qubit, an ancillary register of $n-1$ qubits and a target qubit:"
   ]
  },
  {
   "cell_type": "code",
   "execution_count": 7,
   "id": "40016b11",
   "metadata": {},
   "outputs": [],
   "source": [
    "qx = QuantumRegister(n, 'x')\n",
    "qtarg = QuantumRegister(1, 'targ')\n",
    "qans = QuantumRegister(n-1, 'anc')\n",
    "out_reg = ClassicalRegister(1,'out_reg')\n",
    "circ = QuantumCircuit(qx, qtarg, qans, out_reg)"
   ]
  },
  {
   "cell_type": "markdown",
   "id": "73291411",
   "metadata": {},
   "source": [
    "Let us input the binary representation of $x$ into the register:"
   ]
  },
  {
   "cell_type": "code",
   "execution_count": 8,
   "id": "a709361d",
   "metadata": {},
   "outputs": [],
   "source": [
    "x_gate = qt.input_bits_to_qubits(binary_x, circ, reg=qx, wrap=True)\n",
    "circ.append(x_gate, qx);"
   ]
  },
  {
   "cell_type": "markdown",
   "id": "bd9c6779",
   "metadata": {},
   "source": [
    "We can use the function `integer_compare` to compare the value stored in $x$ to an input value $a$, with $x\\ge a$ by setting `geq=True`:"
   ]
  },
  {
   "cell_type": "code",
   "execution_count": 9,
   "id": "5f062ae9",
   "metadata": {},
   "outputs": [],
   "source": [
    "intcomp_gate = qt.integer_compare(circ, qx, qtarg, qans, a, geq=True, wrap=True)\n",
    "circ.append(intcomp_gate, [*qx, *qtarg, *qans]);"
   ]
  },
  {
   "cell_type": "markdown",
   "id": "d3f7c67c",
   "metadata": {},
   "source": [
    "The result will be stored in the target qubit as a boolean value, which we can measure:"
   ]
  },
  {
   "cell_type": "code",
   "execution_count": 10,
   "id": "3df554ca",
   "metadata": {},
   "outputs": [],
   "source": [
    "circ.measure(qtarg, out_reg);"
   ]
  },
  {
   "cell_type": "markdown",
   "id": "cc04623a",
   "metadata": {},
   "source": [
    "The circuit can be visualised as:"
   ]
  },
  {
   "cell_type": "code",
   "execution_count": 11,
   "id": "5e631fa6",
   "metadata": {},
   "outputs": [
    {
     "data": {
      "image/png": "[encoded data removed]",
      "text/plain": [
       "<PIL.Image.Image image mode=RGB size=359x232 at 0x7FA51C6023E0>"
      ]
     },
     "execution_count": 11,
     "metadata": {},
     "output_type": "execute_result"
    }
   ],
   "source": [
    "circ.draw('latex')"
   ]
  },
  {
   "cell_type": "markdown",
   "id": "be50c7aa",
   "metadata": {},
   "source": [
    "Or on a closer inspection, we can decompose the circuit into smaller components:"
   ]
  },
  {
   "cell_type": "code",
   "execution_count": 12,
   "id": "f68c5d8a",
   "metadata": {},
   "outputs": [
    {
     "data": {
      "image/png": "[encoded data removed]",
      "text/plain": [
       "<PIL.Image.Image image mode=RGB size=371x156 at 0x7FA4A3C07C10>"
      ]
     },
     "execution_count": 12,
     "metadata": {},
     "output_type": "execute_result"
    }
   ],
   "source": [
    "circ.decompose(reps=1).draw('latex')"
   ]
  },
  {
   "cell_type": "markdown",
   "id": "37150efa",
   "metadata": {},
   "source": [
    "We can see that the inequality condition is enforced by a series of boolean logic operations."
   ]
  },
  {
   "cell_type": "code",
   "execution_count": 13,
   "id": "5e70924b",
   "metadata": {},
   "outputs": [],
   "source": [
    "shots=10\n",
    "emulator = Aer.get_backend('qasm_simulator')\n",
    "job = execute(circ, emulator, shots=shots )\n",
    "hist = job.result().get_counts()"
   ]
  },
  {
   "cell_type": "markdown",
   "id": "d6abe40e",
   "metadata": {},
   "source": [
    "By simulating this circuit and sampling measurements of the target qubit, we get the result:"
   ]
  },
  {
   "cell_type": "code",
   "execution_count": 14,
   "id": "9fe6ea98",
   "metadata": {},
   "outputs": [
    {
     "name": "stdout",
     "output_type": "stream",
     "text": [
      "Target:\n",
      "2 >= 1 = True\n",
      "Result:\n",
      "2 >= 1 = True -> 1 with probability 1.0\n"
     ]
    }
   ],
   "source": [
    "print('Target:')\n",
    "print(digit,'>=',a,'=',digit>=a)\n",
    "\n",
    "print('Result:')\n",
    "for label in hist.keys():\n",
    "    print(digit,'>=',a,'=',bool(qt.bin_to_dec(label, nint=nint, phase=False)),'->',label,'with probability',float(hist[label])/shots)"
   ]
  },
  {
   "cell_type": "markdown",
   "id": "1bdd5fde",
   "metadata": {},
   "source": [
    "We can see that the condition is successfully evaluated. Now let's make this comparison between values with fractional parts:"
   ]
  },
  {
   "cell_type": "code",
   "execution_count": 15,
   "id": "8a06395c",
   "metadata": {},
   "outputs": [
    {
     "name": "stdout",
     "output_type": "stream",
     "text": [
      "4 2 2\n"
     ]
    }
   ],
   "source": [
    "digit = 1.5\n",
    "a = 2.25\n",
    "\n",
    "phase = False\n",
    "\n",
    "nint = qt.get_nint([digit,a])\n",
    "npres = qt.get_npres([digit,a])\n",
    "n = nint + npres\n",
    "\n",
    "if phase:\n",
    "    n+=1\n",
    "\n",
    "print(n, nint, npres)\n",
    "\n",
    "binary_x = qt.my_binary_repr(digit, n, nint=nint, phase=phase)\n",
    "binary_a = qt.my_binary_repr(a, n, nint=nint, phase=phase)"
   ]
  },
  {
   "cell_type": "markdown",
   "id": "968dc17d",
   "metadata": {},
   "source": [
    "We can find integers that correspond to these binary strings: "
   ]
  },
  {
   "cell_type": "code",
   "execution_count": 16,
   "id": "b15df773",
   "metadata": {},
   "outputs": [],
   "source": [
    "int_x = qt.bin_to_dec(binary_x, nint=None, phase=False)\n",
    "int_a = qt.bin_to_dec(binary_a, nint=None, phase=False)"
   ]
  },
  {
   "cell_type": "markdown",
   "id": "70d87efc",
   "metadata": {},
   "source": [
    "This transformation works as:"
   ]
  },
  {
   "cell_type": "code",
   "execution_count": 17,
   "id": "40bd1d06",
   "metadata": {},
   "outputs": [
    {
     "name": "stdout",
     "output_type": "stream",
     "text": [
      "1.5 -> 0110 -> 6 , 2.25 -> 1001 -> 9\n"
     ]
    }
   ],
   "source": [
    "print(digit,'->',binary_x,'->',int(int_x),',',a,'->',binary_a,'->',int(int_a))"
   ]
  },
  {
   "cell_type": "markdown",
   "id": "4984d98f",
   "metadata": {},
   "source": [
    "We can see that the integer versions follow the same outcomes to the condition:"
   ]
  },
  {
   "cell_type": "code",
   "execution_count": 18,
   "id": "4482f616",
   "metadata": {},
   "outputs": [
    {
     "name": "stdout",
     "output_type": "stream",
     "text": [
      "It is False that 1.5 >= 2.25, and it is False that 6.0 >= 9.0\n"
     ]
    }
   ],
   "source": [
    "print('It is',digit>=a,'that',str(digit)+' >= '+str(a)+', and it is',int_x>=int_a,'that',str(int_x)+' >= '+str(int_a))"
   ]
  },
  {
   "cell_type": "markdown",
   "id": "f7fd53e7",
   "metadata": {},
   "source": [
    "Again, we initialise the registers:"
   ]
  },
  {
   "cell_type": "code",
   "execution_count": 19,
   "id": "edad889c",
   "metadata": {},
   "outputs": [],
   "source": [
    "qx = QuantumRegister(n, 'x')\n",
    "qtarg = QuantumRegister(1, 'targ')\n",
    "qans = QuantumRegister(n-1, 'anc')\n",
    "out_reg = ClassicalRegister(1,'out_reg')\n",
    "circ = QuantumCircuit(qx, qtarg, qans, out_reg)"
   ]
  },
  {
   "cell_type": "markdown",
   "id": "257a87c8",
   "metadata": {},
   "source": [
    "and input the $x$ binary string: "
   ]
  },
  {
   "cell_type": "code",
   "execution_count": 20,
   "id": "02b5636a",
   "metadata": {},
   "outputs": [],
   "source": [
    "x_gate = qt.input_bits_to_qubits(binary_x, circ, reg=qx, wrap=True)\n",
    "circ.append(x_gate, qx);"
   ]
  },
  {
   "cell_type": "markdown",
   "id": "e398728e",
   "metadata": {},
   "source": [
    "We can use the `integer_compare` function again with the intger version of $a$ given as an input:"
   ]
  },
  {
   "cell_type": "code",
   "execution_count": 21,
   "id": "6d6ab164",
   "metadata": {},
   "outputs": [],
   "source": [
    "intcomp_gate = qt.integer_compare(circ, qx, qtarg, qans, int_a, geq=True, wrap=True)\n",
    "circ.append(intcomp_gate, [*qx, *qtarg, *qans]);"
   ]
  },
  {
   "cell_type": "markdown",
   "id": "5178f32e",
   "metadata": {},
   "source": [
    "Again the outcome of measuring the target qubit results in the outcome:"
   ]
  },
  {
   "cell_type": "code",
   "execution_count": 22,
   "id": "716f3e72",
   "metadata": {},
   "outputs": [],
   "source": [
    "circ.measure(qtarg, out_reg);"
   ]
  },
  {
   "cell_type": "code",
   "execution_count": 23,
   "id": "77614de1",
   "metadata": {},
   "outputs": [],
   "source": [
    "shots=10\n",
    "emulator = Aer.get_backend('qasm_simulator')\n",
    "job = execute(circ, emulator, shots=shots )\n",
    "hist = job.result().get_counts()"
   ]
  },
  {
   "cell_type": "code",
   "execution_count": 24,
   "id": "065eee84",
   "metadata": {},
   "outputs": [
    {
     "name": "stdout",
     "output_type": "stream",
     "text": [
      "Target:\n",
      "1.5 >= 2.25 = False\n",
      "Result:\n",
      "1.5 >= 2.25 = False -> 0 with probability 1.0\n"
     ]
    }
   ],
   "source": [
    "print('Target:')\n",
    "print(digit,'>=',a,'=',digit>=a)\n",
    "\n",
    "print('Result:')\n",
    "for label in hist.keys():\n",
    "    print(digit,'>=',a,'=',bool(qt.bin_to_dec(label, nint=nint, phase=False)),'->',label,'with probability',float(hist[label])/shots)"
   ]
  },
  {
   "cell_type": "markdown",
   "id": "66e579b4",
   "metadata": {},
   "source": [
    "Correct again!\n",
    "\n",
    "Let us now expand this further to also include negative value comparisons. Let us consider twos-complement representation to do this:"
   ]
  },
  {
   "cell_type": "code",
   "execution_count": 25,
   "id": "aec341a1",
   "metadata": {},
   "outputs": [
    {
     "name": "stdout",
     "output_type": "stream",
     "text": [
      "5 2 2\n"
     ]
    }
   ],
   "source": [
    "digit = -1.5\n",
    "a = 2.25\n",
    "\n",
    "phase = True\n",
    "\n",
    "nint = qt.get_nint([digit,a])\n",
    "npres = qt.get_npres([digit,a])\n",
    "n = nint + npres\n",
    "\n",
    "if phase:\n",
    "    n+=1\n",
    "\n",
    "print(n, nint, npres)\n",
    "\n",
    "binary_x = qt.my_binary_repr(digit, n, nint=nint, phase=phase)\n",
    "binary_a = qt.my_binary_repr(a, n, nint=nint, phase=phase)"
   ]
  },
  {
   "cell_type": "markdown",
   "id": "23d7d607",
   "metadata": {},
   "source": [
    "Again, we can use the `integer_compare` tool by converting to an integer representation of $a$. However, we must also flip the leading order bit (the phase bit) of the binary string. This is equivalent to adding $2^{n_{int+1}}$ to either side of the inequality, and therefore will not break the condition. \n",
    "\n",
    "Let us do this for the $a$ binary string:"
   ]
  },
  {
   "cell_type": "code",
   "execution_count": 26,
   "id": "006b5f6a",
   "metadata": {},
   "outputs": [],
   "source": [
    "binary_a_ = qt.my_binary_repr(a, n, nint=nint, phase=phase)\n",
    "\n",
    "if binary_a[0]=='0':\n",
    "    binary_a_ = '1'+binary_a[1:]\n",
    "elif binary_a[0]=='1':\n",
    "    binary_a_ = '0'+binary_a[1:]"
   ]
  },
  {
   "cell_type": "markdown",
   "id": "66bc50c2",
   "metadata": {},
   "source": [
    "as well as the $x$ binary string for comparison:"
   ]
  },
  {
   "cell_type": "code",
   "execution_count": 27,
   "id": "0231cb02",
   "metadata": {},
   "outputs": [],
   "source": [
    "binary_x_ = qt.my_binary_repr(digit, n, nint=nint, phase=phase)\n",
    "\n",
    "if binary_x[0]=='0':\n",
    "    binary_x_ = '1'+binary_x[1:]\n",
    "elif binary_x[0]=='1':\n",
    "    binary_x_ = '0'+binary_x[1:]"
   ]
  },
  {
   "cell_type": "markdown",
   "id": "0967b21d",
   "metadata": {},
   "source": [
    "Now converting these values to integers gives:"
   ]
  },
  {
   "cell_type": "code",
   "execution_count": 28,
   "id": "3d611d77",
   "metadata": {},
   "outputs": [],
   "source": [
    "int_x = qt.bin_to_dec(binary_x_, nint=None, phase=False)\n",
    "int_a = qt.bin_to_dec(binary_a_, nint=None, phase=False)"
   ]
  },
  {
   "cell_type": "markdown",
   "id": "04897bc7",
   "metadata": {},
   "source": [
    "The full transformation resembles:"
   ]
  },
  {
   "cell_type": "code",
   "execution_count": 29,
   "id": "c00b8f27",
   "metadata": {},
   "outputs": [
    {
     "name": "stdout",
     "output_type": "stream",
     "text": [
      "-1.5 -> 11010 -> 01010 -> 10 , 2.25 -> 01001 -> 11001 -> 25\n"
     ]
    }
   ],
   "source": [
    "print(digit,'->',binary_x,'->',binary_x_,'->',int(int_x),',',a,'->',binary_a,'->',binary_a_,'->',int(int_a))"
   ]
  },
  {
   "cell_type": "markdown",
   "id": "981cf2e5",
   "metadata": {},
   "source": [
    "and we can see this leaves the condition unchanged:"
   ]
  },
  {
   "cell_type": "code",
   "execution_count": 30,
   "id": "407407b3",
   "metadata": {},
   "outputs": [
    {
     "name": "stdout",
     "output_type": "stream",
     "text": [
      "It is False that -1.5 >= 2.25, and it is False that 10.0 >= 25.0\n"
     ]
    }
   ],
   "source": [
    "print('It is',digit>=a,'that',str(digit)+' >= '+str(a)+', and it is',int_x>=int_a,'that',str(int_x)+' >= '+str(int_a))"
   ]
  },
  {
   "cell_type": "markdown",
   "id": "eaf849ff",
   "metadata": {},
   "source": [
    "Let's run this in our quantum circuit:"
   ]
  },
  {
   "cell_type": "code",
   "execution_count": 31,
   "id": "eeaed019",
   "metadata": {},
   "outputs": [],
   "source": [
    "qx = QuantumRegister(n, 'x')\n",
    "qtarg = QuantumRegister(1, 'targ')\n",
    "qans = QuantumRegister(n-1, 'anc')\n",
    "out_reg = ClassicalRegister(1,'out_reg')\n",
    "circ = QuantumCircuit(qx, qtarg, qans, out_reg)"
   ]
  },
  {
   "cell_type": "markdown",
   "id": "c4a03745",
   "metadata": {},
   "source": [
    "We can directly load the $x$ binary string:"
   ]
  },
  {
   "cell_type": "code",
   "execution_count": 32,
   "id": "a76ce419",
   "metadata": {},
   "outputs": [],
   "source": [
    "x_gate = qt.input_bits_to_qubits(binary_x, circ, reg=qx, wrap=True)\n",
    "circ.append(x_gate, qx);"
   ]
  },
  {
   "cell_type": "markdown",
   "id": "7db1546f",
   "metadata": {},
   "source": [
    "then perform the $2^{n_{int}+1}$ addition by bit flipping the phase qubit:"
   ]
  },
  {
   "cell_type": "code",
   "execution_count": 33,
   "id": "10c23f64",
   "metadata": {},
   "outputs": [],
   "source": [
    "circ.x(qx[-1]);"
   ]
  },
  {
   "cell_type": "markdown",
   "id": "dfbb6911",
   "metadata": {},
   "source": [
    "As before, we can perform the integer comparison and give the `integer_compare` function the interger version of $a$:"
   ]
  },
  {
   "cell_type": "code",
   "execution_count": 34,
   "id": "6d601ef1",
   "metadata": {},
   "outputs": [],
   "source": [
    "intcomp_gate = qt.integer_compare(circ, qx, qtarg, qans, int_a, geq=True, wrap=True)\n",
    "circ.append(intcomp_gate, [*qx, *qtarg, *qans]);"
   ]
  },
  {
   "cell_type": "markdown",
   "id": "35d2786f",
   "metadata": {},
   "source": [
    "Reverting back to the original $x$ value can now be done with another $X$ gate:"
   ]
  },
  {
   "cell_type": "code",
   "execution_count": 35,
   "id": "05aeda23",
   "metadata": {},
   "outputs": [],
   "source": [
    "circ.x(qx[-1]);"
   ]
  },
  {
   "cell_type": "code",
   "execution_count": 36,
   "id": "34d833b0",
   "metadata": {},
   "outputs": [],
   "source": [
    "circ.measure(qtarg, out_reg);"
   ]
  },
  {
   "cell_type": "code",
   "execution_count": 37,
   "id": "38452c9f",
   "metadata": {},
   "outputs": [
    {
     "data": {
      "image/png": "[encoded data removed]",
      "text/plain": [
       "<PIL.Image.Image image mode=RGB size=408x366 at 0x7FA4A3C4A8F0>"
      ]
     },
     "execution_count": 37,
     "metadata": {},
     "output_type": "execute_result"
    }
   ],
   "source": [
    "circ.draw('latex')"
   ]
  },
  {
   "cell_type": "markdown",
   "id": "6e16faf8",
   "metadata": {},
   "source": [
    "Simulating the measurement results in:"
   ]
  },
  {
   "cell_type": "code",
   "execution_count": 38,
   "id": "02ec9265",
   "metadata": {},
   "outputs": [],
   "source": [
    "shots=10\n",
    "emulator = Aer.get_backend('qasm_simulator')\n",
    "job = execute(circ, emulator, shots=shots )\n",
    "hist = job.result().get_counts()"
   ]
  },
  {
   "cell_type": "code",
   "execution_count": 39,
   "id": "c22c8fdf",
   "metadata": {},
   "outputs": [
    {
     "name": "stdout",
     "output_type": "stream",
     "text": [
      "Target:\n",
      "-1.5 >= 2.25 = False\n",
      "Result:\n",
      "-1.5 >= 2.25 = False -> 0 with probability 1.0\n"
     ]
    }
   ],
   "source": [
    "print('Target:')\n",
    "print(digit,'>=',a,'=',digit>=a)\n",
    "\n",
    "print('Result:')\n",
    "for label in hist.keys():\n",
    "    print(digit,'>=',a,'=',bool(qt.bin_to_dec(label, nint=nint, phase=False)),'->',label,'with probability',float(hist[label])/shots)"
   ]
  },
  {
   "cell_type": "markdown",
   "id": "69437022",
   "metadata": {},
   "source": [
    "as desired!\n",
    "\n",
    "Now that this seems to work generally let us demonstrate the same case but for $x\\le a$:"
   ]
  },
  {
   "cell_type": "code",
   "execution_count": 40,
   "id": "cb692f0c",
   "metadata": {},
   "outputs": [],
   "source": [
    "digit = -1.5\n",
    "a = 2.25\n",
    "\n",
    "phase = True\n",
    "\n",
    "nint = qt.get_nint([digit,a])\n",
    "npres = qt.get_npres([digit,a])\n",
    "n = nint + npres\n",
    "\n",
    "if phase:\n",
    "    n+=1\n",
    "    \n",
    "binary_x = qt.my_binary_repr(digit, n, nint=nint, phase=phase)\n",
    "binary_a = qt.my_binary_repr(a, n, nint=nint, phase=phase)\n",
    "\n",
    "binary_x_ = qt.my_binary_repr(digit, n, nint=nint, phase=phase)\n",
    "\n",
    "if binary_x[0]=='0':\n",
    "    binary_x_ = '1'+binary_x[1:]\n",
    "elif binary_x[0]=='1':\n",
    "    binary_x_ = '0'+binary_x[1:]\n",
    "    \n",
    "binary_a_ = qt.my_binary_repr(a, n, nint=nint, phase=phase)\n",
    "\n",
    "if binary_a[0]=='0':\n",
    "    binary_a_ = '1'+binary_a[1:]\n",
    "elif binary_a[0]=='1':\n",
    "    binary_a_ = '0'+binary_a[1:]\n",
    "    \n",
    "int_x = qt.bin_to_dec(binary_x_, nint=None, phase=False)\n",
    "int_a = qt.bin_to_dec(binary_a_, nint=None, phase=False)"
   ]
  },
  {
   "cell_type": "markdown",
   "id": "9059fd9d",
   "metadata": {},
   "source": [
    "The same circuit can be constructed, but with the option `geq=False` set in the `integer_compare` function:"
   ]
  },
  {
   "cell_type": "code",
   "execution_count": 41,
   "id": "9e01bd8e",
   "metadata": {},
   "outputs": [],
   "source": [
    "qx = QuantumRegister(n, 'x')\n",
    "qtarg = QuantumRegister(1, 'targ')\n",
    "qans = QuantumRegister(n-1, 'anc')\n",
    "out_reg = ClassicalRegister(1,'out_reg')\n",
    "circ = QuantumCircuit(qx, qtarg, qans, out_reg)\n",
    "\n",
    "x_gate = qt.input_bits_to_qubits(binary_x, circ, reg=qx, wrap=True)\n",
    "circ.append(x_gate, qx);\n",
    "\n",
    "circ.x(qx[-1]);\n",
    "intcomp_gate = qt.integer_compare(circ, qx, qtarg, qans, int_a, geq=False, wrap=True)\n",
    "circ.append(intcomp_gate, [*qx, *qtarg, *qans]);\n",
    "circ.x(qx[-1]);\n",
    "\n",
    "circ.measure(qtarg, out_reg);"
   ]
  },
  {
   "cell_type": "code",
   "execution_count": 42,
   "id": "ecd1f0c2",
   "metadata": {},
   "outputs": [],
   "source": [
    "shots=10\n",
    "emulator = Aer.get_backend('qasm_simulator')\n",
    "job = execute(circ, emulator, shots=shots )\n",
    "hist = job.result().get_counts()"
   ]
  },
  {
   "cell_type": "code",
   "execution_count": 43,
   "id": "b66410fe",
   "metadata": {
    "scrolled": true
   },
   "outputs": [
    {
     "name": "stdout",
     "output_type": "stream",
     "text": [
      "Target:\n",
      "-1.5 <= 2.25 = True\n",
      "Result:\n",
      "-1.5 <= 2.25 = True -> 1 with probability 1.0\n"
     ]
    }
   ],
   "source": [
    "print('Target:')\n",
    "print(digit,'<=',a,'=',digit<=a)\n",
    "\n",
    "print('Result:')\n",
    "for label in hist.keys():\n",
    "    print(digit,'<=',a,'=',bool(qt.bin_to_dec(label, nint=nint, phase=False)),'->',label,'with probability',float(hist[label])/shots)"
   ]
  },
  {
   "cell_type": "markdown",
   "id": "ba8ccd5c",
   "metadata": {},
   "source": [
    "Giving the correct result! After all that, lets just wrap all of this into a single function `inequal_cond` which will handle the phase and fractional parts of numbers as described in this notebook."
   ]
  },
  {
   "cell_type": "code",
   "execution_count": 44,
   "id": "aae8e5eb",
   "metadata": {},
   "outputs": [],
   "source": [
    "digit = 3.5\n",
    "a = 2.25\n",
    "\n",
    "phase = True\n",
    "\n",
    "nint = qt.get_nint([digit,a])\n",
    "npres = qt.get_npres([digit,a])\n",
    "n = nint + npres\n",
    "\n",
    "if phase:\n",
    "    n+=1\n",
    "    \n",
    "binary_x = qt.my_binary_repr(digit, n, nint=nint, phase=phase)"
   ]
  },
  {
   "cell_type": "code",
   "execution_count": 45,
   "id": "b4de14a3",
   "metadata": {},
   "outputs": [],
   "source": [
    "qx = QuantumRegister(n, 'x')\n",
    "qtarg = QuantumRegister(1, 'targ')\n",
    "qans = QuantumRegister(n-1, 'anc')\n",
    "out_reg = ClassicalRegister(1,'out_reg')\n",
    "circ = QuantumCircuit(qx, qtarg, qans, out_reg)\n",
    "\n",
    "x_gate = qt.input_bits_to_qubits(binary_x, circ, reg=qx, wrap=True)\n",
    "circ.append(x_gate, qx);\n",
    "\n",
    "comp_gate = qt.inequal_cond(circ, qx, qtarg, qans, a, nint=nint, phase=phase, geq=False, wrap=True)\n",
    "circ.append(comp_gate, [*qx, *qtarg, *qans]);\n",
    "\n",
    "circ.measure(qtarg, out_reg);"
   ]
  },
  {
   "cell_type": "code",
   "execution_count": 46,
   "id": "a1b5a883",
   "metadata": {},
   "outputs": [],
   "source": [
    "shots=10\n",
    "emulator = Aer.get_backend('qasm_simulator')\n",
    "job = execute(circ, emulator, shots=shots )\n",
    "hist = job.result().get_counts()"
   ]
  },
  {
   "cell_type": "code",
   "execution_count": 47,
   "id": "b1d27085",
   "metadata": {},
   "outputs": [
    {
     "name": "stdout",
     "output_type": "stream",
     "text": [
      "Target:\n",
      "3.5 <= 2.25 = False\n",
      "Result:\n",
      "3.5 <= 2.25 = False -> 0 with probability 1.0\n"
     ]
    }
   ],
   "source": [
    "print('Target:')\n",
    "print(digit,'<=',a,'=',digit<=a)\n",
    "\n",
    "print('Result:')\n",
    "for label in hist.keys():\n",
    "    print(digit,'<=',a,'=',bool(qt.bin_to_dec(label, nint=nint, phase=False)),'->',label,'with probability',float(hist[label])/shots)"
   ]
  },
  {
   "cell_type": "markdown",
   "id": "9ef4f42a",
   "metadata": {},
   "source": [
    "You may be thinking, this is just like the previous notebook with multiplication - why did we go through all those examples when these problems are dealt with inside the `qiskit_tools` functions internally. Well, similarly to the multiplication case, this notebook looks to demonstrate how the binary representation matters and how inputs are treated differently depending on if they are in the phase-magnitude or the twos-complement representation. Here, we demonstrate how the inequalities can be straightforwardly handled when considering twos-complement representation. However, this may not be so straightforward for sign-magnitude representation. We use the fact that every binary string in twos-complement notation can be mapped to an integer. This is not the case with sign-magnitude (with both positive and negative zero)!\n",
    "\n",
    "### Task\n",
    "\n",
    "Can you generalise the `inequal_cond` function to handle sign-magnitude as well as twos-complement representation? This may require editing the `integer_compare` function as well."
   ]
  }
 ],
 "metadata": {
  "kernelspec": {
   "display_name": "Python 3 (ipykernel)",
   "language": "python",
   "name": "python3"
  },
  "language_info": {
   "codemirror_mode": {
    "name": "ipython",
    "version": 3
   },
   "file_extension": ".py",
   "mimetype": "text/x-python",
   "name": "python",
   "nbconvert_exporter": "python",
   "pygments_lexer": "ipython3",
   "version": "3.10.6"
  }
 },
 "nbformat": 4,
 "nbformat_minor": 5
}
