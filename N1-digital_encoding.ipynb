{
 "cells": [
  {
   "cell_type": "markdown",
   "id": "768f0539",
   "metadata": {},
   "source": [
    "# Digital encoding\n",
    "\n",
    "This notebook introduces tools for handling binary strings and encoding these binary strings into the computational basis of a quantum register."
   ]
  },
  {
   "cell_type": "code",
   "execution_count": 1,
   "id": "364bc353",
   "metadata": {},
   "outputs": [],
   "source": [
    "from qiskit import QuantumCircuit, QuantumRegister, ClassicalRegister, execute, Aer, IBMQ\n",
    "import qiskit_tools as qt\n",
    "import numpy as np\n",
    "import matplotlib.pyplot as plt\n",
    "import matplotlib"
   ]
  },
  {
   "cell_type": "markdown",
   "id": "ea52e981",
   "metadata": {},
   "source": [
    "Let us first consider writing a decimal value into binary. Lets make it a particularly difficult value to store such as pi:"
   ]
  },
  {
   "cell_type": "code",
   "execution_count": 2,
   "id": "5298a4fd",
   "metadata": {},
   "outputs": [
    {
     "name": "stdout",
     "output_type": "stream",
     "text": [
      "3.141592653589793\n"
     ]
    }
   ],
   "source": [
    "in_digit = np.pi\n",
    "print(in_digit)"
   ]
  },
  {
   "cell_type": "markdown",
   "id": "d9f855fa",
   "metadata": {},
   "source": [
    "We can assume a number of bits to write this to:"
   ]
  },
  {
   "cell_type": "code",
   "execution_count": 3,
   "id": "7f76563f",
   "metadata": {},
   "outputs": [],
   "source": [
    "n = 20"
   ]
  },
  {
   "cell_type": "markdown",
   "id": "f40f2556",
   "metadata": {},
   "source": [
    "Given the number, we can determine the number of bits to assign to storing the integer part of the fraction:"
   ]
  },
  {
   "cell_type": "code",
   "execution_count": 4,
   "id": "7cde5b8f",
   "metadata": {},
   "outputs": [
    {
     "name": "stdout",
     "output_type": "stream",
     "text": [
      "2\n"
     ]
    }
   ],
   "source": [
    "nint = qt.get_nint(in_digit)\n",
    "print(nint)"
   ]
  },
  {
   "cell_type": "markdown",
   "id": "8e056d74",
   "metadata": {},
   "source": [
    "We can determine the binary string that most closesly approximates the value given using the set number of bits:"
   ]
  },
  {
   "cell_type": "code",
   "execution_count": 5,
   "id": "819e1db3",
   "metadata": {},
   "outputs": [
    {
     "name": "stdout",
     "output_type": "stream",
     "text": [
      "11001001000011111110\n"
     ]
    }
   ],
   "source": [
    "in_binary = qt.my_binary_repr(in_digit, n, nint=nint, phase=False)\n",
    "print(in_binary)"
   ]
  },
  {
   "cell_type": "markdown",
   "id": "507485ec",
   "metadata": {},
   "source": [
    "Let us convert this back to a decimal format:"
   ]
  },
  {
   "cell_type": "code",
   "execution_count": 6,
   "id": "e6bdbc3f",
   "metadata": {},
   "outputs": [
    {
     "name": "stdout",
     "output_type": "stream",
     "text": [
      "3.1415939331054688\n"
     ]
    }
   ],
   "source": [
    "out_digit = qt.bin_to_dec(in_binary, nint=nint, phase=False)\n",
    "print(out_digit)"
   ]
  },
  {
   "cell_type": "markdown",
   "id": "570c7c79",
   "metadata": {},
   "source": [
    "Given the finite number of bits, the binary string has a finite precision. When we do not consider negative numbers, the number of bits reserved for storing the precision is equal to the total number of bits minus the number of integer bits:"
   ]
  },
  {
   "cell_type": "code",
   "execution_count": 7,
   "id": "d8661964",
   "metadata": {},
   "outputs": [
    {
     "data": {
      "text/plain": [
       "18"
      ]
     },
     "execution_count": 7,
     "metadata": {},
     "output_type": "execute_result"
    }
   ],
   "source": [
    "n-nint"
   ]
  },
  {
   "cell_type": "markdown",
   "id": "62a0a95a",
   "metadata": {},
   "source": [
    "Now let us consider a negative number:"
   ]
  },
  {
   "cell_type": "code",
   "execution_count": 8,
   "id": "ac989e21",
   "metadata": {
    "scrolled": true
   },
   "outputs": [
    {
     "name": "stdout",
     "output_type": "stream",
     "text": [
      "-3.25\n"
     ]
    }
   ],
   "source": [
    "in_digit = -3.25\n",
    "print(in_digit)"
   ]
  },
  {
   "cell_type": "markdown",
   "id": "45f23e94",
   "metadata": {},
   "source": [
    "This requires integer bits of number:"
   ]
  },
  {
   "cell_type": "code",
   "execution_count": 9,
   "id": "2011f2e2",
   "metadata": {},
   "outputs": [
    {
     "name": "stdout",
     "output_type": "stream",
     "text": [
      "2\n"
     ]
    }
   ],
   "source": [
    "nint = qt.get_nint(in_digit)\n",
    "print(nint)"
   ]
  },
  {
   "cell_type": "markdown",
   "id": "3d8b62ad",
   "metadata": {},
   "source": [
    "We can also work out the required precision bits to fully express the decimal:"
   ]
  },
  {
   "cell_type": "code",
   "execution_count": 10,
   "id": "63135e17",
   "metadata": {},
   "outputs": [
    {
     "name": "stdout",
     "output_type": "stream",
     "text": [
      "2\n"
     ]
    }
   ],
   "source": [
    "npres = qt.get_npres(in_digit)\n",
    "print(npres)"
   ]
  },
  {
   "cell_type": "markdown",
   "id": "840b3a84",
   "metadata": {},
   "source": [
    "The total number of bits when considering negative numbers is the number of integer bits plus the number of precision bits plus an additional bit to store the sign of the digit:"
   ]
  },
  {
   "cell_type": "code",
   "execution_count": 11,
   "id": "01e077b9",
   "metadata": {},
   "outputs": [],
   "source": [
    "n = npres + nint + 1"
   ]
  },
  {
   "cell_type": "markdown",
   "id": "e50559f4",
   "metadata": {},
   "source": [
    "To handle negative numbers, assign `phase=True` when determining the binary representation:"
   ]
  },
  {
   "cell_type": "code",
   "execution_count": 12,
   "id": "f65f3876",
   "metadata": {},
   "outputs": [
    {
     "name": "stdout",
     "output_type": "stream",
     "text": [
      "10011\n"
     ]
    }
   ],
   "source": [
    "in_binary = qt.my_binary_repr(in_digit, n, nint=nint, phase=True)\n",
    "print(in_binary)"
   ]
  },
  {
   "cell_type": "markdown",
   "id": "44108b27",
   "metadata": {},
   "source": [
    "The binary string is returned in [twos-complement representation](https://en.wikipedia.org/wiki/Two%27s_complement), where the leading-order bit represents to sign (0 is positive and 1 is negative), and the integer/precision qubits are related to the magnitude representation by a bit flip and increment of the final bit by 1.\n",
    "\n",
    "Converting back gives us our initial digit:"
   ]
  },
  {
   "cell_type": "code",
   "execution_count": 13,
   "id": "91f89f3e",
   "metadata": {},
   "outputs": [
    {
     "name": "stdout",
     "output_type": "stream",
     "text": [
      "-3.25\n"
     ]
    }
   ],
   "source": [
    "out_digit = qt.bin_to_dec(in_binary, nint=nint, phase=True)\n",
    "print(out_digit)"
   ]
  },
  {
   "cell_type": "markdown",
   "id": "7c6106e6",
   "metadata": {},
   "source": [
    "We can also use the [sign-magnitude representation](https://en.wikipedia.org/wiki/Signed_number_representations) where the first bit is reserved for the phase and the remaining bits store the magnitude:"
   ]
  },
  {
   "cell_type": "code",
   "execution_count": 14,
   "id": "c8681bff",
   "metadata": {},
   "outputs": [
    {
     "name": "stdout",
     "output_type": "stream",
     "text": [
      "11101 -3.25\n"
     ]
    }
   ],
   "source": [
    "sm_binary = qt.my_binary_repr(in_digit, n, nint=nint, phase=True, signmag=True)\n",
    "print(sm_binary, qt.bin_to_dec(sm_binary, nint=nint, phase=True, signmag=True))"
   ]
  },
  {
   "cell_type": "markdown",
   "id": "0d09f0a1",
   "metadata": {},
   "source": [
    "Let us now initiate a qiskit quantum register of $n$ bits:"
   ]
  },
  {
   "cell_type": "code",
   "execution_count": 15,
   "id": "8c63d0fe",
   "metadata": {},
   "outputs": [],
   "source": [
    "qreg = QuantumRegister(n, 'bit')\n",
    "circ = QuantumCircuit(qreg)"
   ]
  },
  {
   "cell_type": "markdown",
   "id": "19064463",
   "metadata": {},
   "source": [
    "We can input a binary string into a quantum register using the command:"
   ]
  },
  {
   "cell_type": "code",
   "execution_count": 16,
   "id": "edff8e34",
   "metadata": {},
   "outputs": [],
   "source": [
    "circ = qt.input_bits_to_qubits(in_binary, circ, qreg)"
   ]
  },
  {
   "cell_type": "markdown",
   "id": "76aaa5ad",
   "metadata": {},
   "source": [
    "This corresponds to $X$ gates on bits corresponding to bits equal to 1:"
   ]
  },
  {
   "cell_type": "code",
   "execution_count": 17,
   "id": "8ffdbb11",
   "metadata": {
    "scrolled": true
   },
   "outputs": [
    {
     "data": {
      "image/png": "[encoded data removed]",
      "text/plain": [
       "<PIL.Image.Image image mode=RGB size=145x151 at 0x7F9DF4204B50>"
      ]
     },
     "execution_count": 17,
     "metadata": {},
     "output_type": "execute_result"
    }
   ],
   "source": [
    "circ.draw(output=\"latex\")"
   ]
  },
  {
   "cell_type": "markdown",
   "id": "fa38d173",
   "metadata": {},
   "source": [
    "Note however that qiskit reverses the order of the bit strings! This is important when using measurements to read values out."
   ]
  },
  {
   "cell_type": "code",
   "execution_count": null,
   "id": "ace47880",
   "metadata": {},
   "outputs": [],
   "source": []
  }
 ],
 "metadata": {
  "kernelspec": {
   "display_name": "Python 3 (ipykernel)",
   "language": "python",
   "name": "python3"
  },
  "language_info": {
   "codemirror_mode": {
    "name": "ipython",
    "version": 3
   },
   "file_extension": ".py",
   "mimetype": "text/x-python",
   "name": "python",
   "nbconvert_exporter": "python",
   "pygments_lexer": "ipython3",
   "version": "3.10.6"
  }
 },
 "nbformat": 4,
 "nbformat_minor": 5
}
