{
 "cells": [
  {
   "cell_type": "markdown",
   "id": "b5fe5046",
   "metadata": {},
   "source": [
    "# Exponentiation\n",
    "\n",
    "In this notebook, we look into a tool for raising a value to a given integer power. Again, this builds upon the [multiplication using the quantum Fourier transform](https://link.springer.com/article/10.1007/s11128-017-1603-1) explored in the previous notebook.\n",
    "\n",
    "This operation performs:\n",
    "\n",
    "$$ |x\\rangle^{\\otimes n}|0\\rangle^{\\otimes \\le n\\times k} \\rightarrow |x\\rangle^{\\otimes n}|x^{k}\\rangle^{\\otimes \\le n\\times k} $$\n",
    "\n",
    "where $k$ is a positive integer."
   ]
  },
  {
   "cell_type": "code",
   "execution_count": 1,
   "id": "ffbf0e28",
   "metadata": {},
   "outputs": [],
   "source": [
    "from qiskit import QuantumCircuit, QuantumRegister, ClassicalRegister, execute, Aer, IBMQ\n",
    "import qiskit_tools as qt\n",
    "import numpy as np\n",
    "import matplotlib.pyplot as plt\n",
    "import matplotlib"
   ]
  },
  {
   "cell_type": "markdown",
   "id": "ec5e4913",
   "metadata": {},
   "source": [
    "Let us start with just squaring a number such that $k=2$."
   ]
  },
  {
   "cell_type": "code",
   "execution_count": 2,
   "id": "26e0d9aa",
   "metadata": {},
   "outputs": [
    {
     "name": "stdout",
     "output_type": "stream",
     "text": [
      "10.25 ^2 = 105.0625\n"
     ]
    }
   ],
   "source": [
    "digit = 10.25\n",
    "k = 2\n",
    "target = np.power(digit, k)\n",
    "\n",
    "print(digit,'^'+str(k),'=',target)"
   ]
  },
  {
   "cell_type": "markdown",
   "id": "0e2cde70",
   "metadata": {},
   "source": [
    "As usual, we find the minimum required qubits to store both the input $x$:"
   ]
  },
  {
   "cell_type": "code",
   "execution_count": 3,
   "id": "d05312c1",
   "metadata": {},
   "outputs": [
    {
     "name": "stdout",
     "output_type": "stream",
     "text": [
      "7 4 2\n"
     ]
    }
   ],
   "source": [
    "nintx = qt.get_nint(digit)\n",
    "npresx = qt.get_npres(digit)\n",
    "nx = nintx + npresx + 1\n",
    "print(nx, nintx, npresx)"
   ]
  },
  {
   "cell_type": "markdown",
   "id": "733d9da9",
   "metadata": {},
   "source": [
    "and the target $x^{k}$:"
   ]
  },
  {
   "cell_type": "code",
   "execution_count": 4,
   "id": "10b4addc",
   "metadata": {},
   "outputs": [
    {
     "name": "stdout",
     "output_type": "stream",
     "text": [
      "12 7\n"
     ]
    }
   ],
   "source": [
    "nint = qt.get_nint(target)\n",
    "npres = qt.get_npres(target)\n",
    "n = nint + npres + 1\n",
    "print(n, nint)"
   ]
  },
  {
   "cell_type": "code",
   "execution_count": 5,
   "id": "87629415",
   "metadata": {},
   "outputs": [],
   "source": [
    "phase = True\n",
    "\n",
    "binary = qt.my_binary_repr(digit, nx, nint=nintx, phase=phase)\n",
    "binary_t = qt.my_binary_repr(target, n, nint=nint, phase=phase)"
   ]
  },
  {
   "cell_type": "markdown",
   "id": "c05407b6",
   "metadata": {},
   "source": [
    "We define a quantum circuit and input $x$ into a register:"
   ]
  },
  {
   "cell_type": "code",
   "execution_count": 6,
   "id": "5f7069cb",
   "metadata": {},
   "outputs": [],
   "source": [
    "qx = QuantumRegister(nx, 'x')\n",
    "qtarg = QuantumRegister(n,'targ')\n",
    "c_out = ClassicalRegister(n, 'c_out')\n",
    "circ = QuantumCircuit(qx, qtarg, c_out)"
   ]
  },
  {
   "cell_type": "code",
   "execution_count": 7,
   "id": "9a189142",
   "metadata": {},
   "outputs": [],
   "source": [
    "in_gate = qt.input_bits_to_qubits(binary, circ, reg=qx, wrap=True)\n",
    "circ.append(in_gate, qx);"
   ]
  },
  {
   "cell_type": "markdown",
   "id": "39e935c0",
   "metadata": {},
   "source": [
    "The exponentiation operation can be called with `QFTPowerN` as shown below:"
   ]
  },
  {
   "cell_type": "code",
   "execution_count": 8,
   "id": "09d9d146",
   "metadata": {},
   "outputs": [],
   "source": [
    "power_gate = qt.QFTPowerN(circ, qx, qtarg, k, wrap=True, nintx=nintx, nint=nint)\n",
    "circ.append(power_gate, [*qx, *qtarg]);"
   ]
  },
  {
   "cell_type": "code",
   "execution_count": 9,
   "id": "e3f4d844",
   "metadata": {},
   "outputs": [],
   "source": [
    "circ.measure(qtarg, c_out);"
   ]
  },
  {
   "cell_type": "code",
   "execution_count": 10,
   "id": "58563c7e",
   "metadata": {},
   "outputs": [],
   "source": [
    "circ.draw('latex')"
   ]
  },
  {
   "cell_type": "code",
   "execution_count": 11,
   "id": "3511bf49",
   "metadata": {},
   "outputs": [],
   "source": [
    "shots=10\n",
    "emulator = Aer.get_backend('qasm_simulator')\n",
    "job = execute(circ, emulator, shots=shots )\n",
    "hist = job.result().get_counts()"
   ]
  },
  {
   "cell_type": "code",
   "execution_count": 12,
   "id": "c0c263d2",
   "metadata": {},
   "outputs": [
    {
     "name": "stdout",
     "output_type": "stream",
     "text": [
      "Target:\n",
      "10.25 ^2 = 105.0625 -> 011010010001\n",
      "Result:\n",
      "10.25 ^2 = 105.0625 -> 011010010001 with probability 1.0\n"
     ]
    }
   ],
   "source": [
    "print('Target:')\n",
    "print(digit,'^'+str(k),'=',target,'->',binary_t)\n",
    "\n",
    "print('Result:')\n",
    "for label in hist.keys():\n",
    "    print(digit,'^'+str(k),'=',qt.bin_to_dec(label, nint=nint, phase=phase),'->',label,'with probability',float(hist[label])/shots)"
   ]
  },
  {
   "cell_type": "markdown",
   "id": "56cdcaaf",
   "metadata": {},
   "source": [
    "As we can see, we recover the target result!\n",
    "\n",
    "Let's try again but with a higher exponent. If you are changing the values, remember that computer memory limitations will restrict you to maximum target values:"
   ]
  },
  {
   "cell_type": "code",
   "execution_count": 13,
   "id": "bece0f12",
   "metadata": {},
   "outputs": [
    {
     "name": "stdout",
     "output_type": "stream",
     "text": [
      "1.25 ^5 = 3.0517578125\n"
     ]
    }
   ],
   "source": [
    "digit = 1.25\n",
    "k = 5\n",
    "target = np.power(digit, k)\n",
    "\n",
    "print(digit,'^'+str(k),'=',target)"
   ]
  },
  {
   "cell_type": "code",
   "execution_count": 14,
   "id": "af7298f0",
   "metadata": {},
   "outputs": [
    {
     "name": "stdout",
     "output_type": "stream",
     "text": [
      "4 1 2\n"
     ]
    }
   ],
   "source": [
    "nintx = qt.get_nint(digit)\n",
    "npresx = qt.get_npres(digit)\n",
    "nx = nintx + npresx + 1\n",
    "print(nx, nintx, npresx)"
   ]
  },
  {
   "cell_type": "code",
   "execution_count": 15,
   "id": "51b03c43",
   "metadata": {},
   "outputs": [
    {
     "name": "stdout",
     "output_type": "stream",
     "text": [
      "13 2\n"
     ]
    }
   ],
   "source": [
    "nint = qt.get_nint(target)\n",
    "npres = qt.get_npres(target)\n",
    "n = nint + npres + 1\n",
    "print(n, nint)"
   ]
  },
  {
   "cell_type": "code",
   "execution_count": 16,
   "id": "41478a24",
   "metadata": {},
   "outputs": [],
   "source": [
    "phase = True\n",
    "\n",
    "binary = qt.my_binary_repr(digit, nx, nint=nintx, phase=phase)\n",
    "binary_t = qt.my_binary_repr(target, n, nint=nint, phase=phase)"
   ]
  },
  {
   "cell_type": "code",
   "execution_count": 17,
   "id": "fab4e7d3",
   "metadata": {},
   "outputs": [],
   "source": [
    "qx = QuantumRegister(nx, 'x')\n",
    "qtarg = QuantumRegister(n,'targ')\n",
    "c_out = ClassicalRegister(n, 'c_out')\n",
    "circ = QuantumCircuit(qx, qtarg, c_out)"
   ]
  },
  {
   "cell_type": "code",
   "execution_count": 18,
   "id": "aa40eb5d",
   "metadata": {},
   "outputs": [],
   "source": [
    "in_gate = qt.input_bits_to_qubits(binary, circ, reg=qx, wrap=True)\n",
    "circ.append(in_gate, qx);"
   ]
  },
  {
   "cell_type": "code",
   "execution_count": 19,
   "id": "c3feab9e",
   "metadata": {},
   "outputs": [],
   "source": [
    "power_gate = qt.QFTPowerN(circ, qx, qtarg, k, wrap=True, nintx=nintx, nint=nint)\n",
    "circ.append(power_gate, [*qx, *qtarg]);"
   ]
  },
  {
   "cell_type": "code",
   "execution_count": 20,
   "id": "c8da5288",
   "metadata": {},
   "outputs": [],
   "source": [
    "circ.measure(qtarg, c_out);"
   ]
  },
  {
   "cell_type": "code",
   "execution_count": 22,
   "id": "32f097fe",
   "metadata": {},
   "outputs": [],
   "source": [
    "shots=10\n",
    "emulator = Aer.get_backend('qasm_simulator')\n",
    "job = execute(circ, emulator, shots=shots )\n",
    "hist = job.result().get_counts()"
   ]
  },
  {
   "cell_type": "code",
   "execution_count": 23,
   "id": "cbc2958d",
   "metadata": {},
   "outputs": [
    {
     "name": "stdout",
     "output_type": "stream",
     "text": [
      "Target:\n",
      "1.25 ^5 = 3.0517578125 -> 0110000110101\n",
      "Result:\n",
      "1.25 ^5 = 3.0517578125 -> 0110000110101 with probability 1.0\n"
     ]
    }
   ],
   "source": [
    "print('Target:')\n",
    "print(digit,'^'+str(k),'=',target,'->',binary_t)\n",
    "\n",
    "print('Result:')\n",
    "for label in hist.keys():\n",
    "    print(digit,'^'+str(k),'=',qt.bin_to_dec(label, nint=nint, phase=phase),'->',label,'with probability',float(hist[label])/shots)"
   ]
  },
  {
   "cell_type": "markdown",
   "id": "993bfbe2",
   "metadata": {},
   "source": [
    "Again, we should recover the desired solution."
   ]
  },
  {
   "cell_type": "code",
   "execution_count": null,
   "id": "dfd0bb2b",
   "metadata": {},
   "outputs": [],
   "source": []
  }
 ],
 "metadata": {
  "kernelspec": {
   "display_name": "Python 3 (ipykernel)",
   "language": "python",
   "name": "python3"
  },
  "language_info": {
   "codemirror_mode": {
    "name": "ipython",
    "version": 3
   },
   "file_extension": ".py",
   "mimetype": "text/x-python",
   "name": "python",
   "nbconvert_exporter": "python",
   "pygments_lexer": "ipython3",
   "version": "3.10.6"
  }
 },
 "nbformat": 4,
 "nbformat_minor": 5
}
